{
 "cells": [
  {
   "cell_type": "raw",
   "metadata": {
    "vscode": {
     "languageId": "raw"
    }
   },
   "source": [
    "---\n",
    "layout: post\n",
    "title: Project Showcase Reflection\n",
    "type: issues \n",
    "comments: true\n",
    "---"
   ]
  },
  {
   "cell_type": "markdown",
   "metadata": {},
   "source": [
    "Each tri, Night at the Museum is the perfect opportunity to showcase our CS work from the trimester. Presenting our OCS Dashboard Analytics project to classmates, parents, and teachers allowed me to highlight both the technical depth and real-world impact of what we built. I explained our backend API enhancements, frontend integration, and smart grade predictor system—all developed to make GitHub contributions more transparent and meaningful. It was rewarding to see others engage with our work and offer thoughtful feedback, which we’ll use to further improve the project.\n",
    "\n",
    "I wrote about the experience on LinkedIn.\n",
    "\n",
    "![Image](https://github.com/user-attachments/assets/775a0de5-a216-4724-8c9b-2433917ef712)\n",
    "\n",
    "Night at the Museum was a great way to wrap up the year and see everyone’s hard work through numerous impressive projects. I had a great time presenting my project, the OCS Dashboard Analytics, and the feedback we got on our project from peers and parents alike was invaluable. I also got to visit other groups, and one project that really stood out to me was the new student_2026 repository, which had been redone to be more customizable and easy to use. This really connected with me since I remember making my personal pages site off of student_2025, and I think what they've done to improve it will be greatly beneficial for next year's new students. Overall, it was an amazing experience and really highlighted the creativity and growth within our CS community. \n",
    "![Image](https://github.com/user-attachments/assets/974b173e-813d-4370-b3d6-0ed9a009fccc)\n",
    "![Image](https://github.com/user-attachments/assets/9debdb1f-4897-4371-a85c-5f32a61edd4c)\n",
    "\n",
    "## Our Project\n",
    "We also got high amounts of feeedback for our project, including adding a graph, fixing up the UI, and improving the user accessibility by linking to the dashboard when logging in and not the profile page.\n",
    "\n",
    "![Image](https://github.com/user-attachments/assets/4a4e738b-af5b-44fd-ac06-c8d473a19c2a)"
   ]
  }
 ],
 "metadata": {
  "kernelspec": {
   "display_name": ".venv",
   "language": "python",
   "name": "python3"
  },
  "language_info": {
   "codemirror_mode": {
    "name": "ipython",
    "version": 3
   },
   "file_extension": ".py",
   "mimetype": "text/x-python",
   "name": "python",
   "nbconvert_exporter": "python",
   "pygments_lexer": "ipython3",
   "version": "3.10.12"
  }
 },
 "nbformat": 4,
 "nbformat_minor": 2
}
