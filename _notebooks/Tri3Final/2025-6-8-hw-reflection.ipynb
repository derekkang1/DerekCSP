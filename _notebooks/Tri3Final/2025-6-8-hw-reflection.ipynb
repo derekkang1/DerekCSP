{
 "cells": [
  {
   "cell_type": "raw",
   "metadata": {
    "vscode": {
     "languageId": "raw"
    }
   },
   "source": [
    "---\n",
    "layout: post\n",
    "title: Homework Throughout the Year\n",
    "type: issues \n",
    "comments: true\n",
    "---"
   ]
  },
  {
   "cell_type": "markdown",
   "metadata": {},
   "source": [
    "## Commits for Team Teaches\n",
    "\n",
    "- [Homework Lesson Commit history](https://github.com/derekkang1/DerekCSP/commits/main/)\n",
    "\n",
    "### Homework Lessons Proof\n",
    "\n",
    "| #  | Topic                                                                                   | Link     |\n",
    "|----|------------------------------------------------------------------------------------------|----------|\n",
    "| 1  | Base 64                                                                                 | [View](https://derekkang1.github.io/DerekCSP/2025/03/20/color_IPYNB_2_.html) |\n",
    "| 2  | Binary Base                                                                             | [View](https://derekkang1.github.io/DerekCSP/2025/03/20/binary_IPYNB_2_.html) |\n",
    "| 3  | Logic Gates                                                                             | [View](https://derekkang1.github.io/DerekCSP/2025/03/20/logic_IPYNB_2_.html) |\n",
    "| 4  | Undecidable and Decidable Problems in Computer Science & Graphs/Heuristics             | [View](https://derekkang1.github.io/DerekCSP/2025/03/20/graphs_IPYNB_2_.html) |\n",
    "| 5  | Random Algorithms and Simulation Games Team Teach                                       | [View](https://derekkang1.github.io/DerekCSP/2025/03/20/random-alg_IPYNB_2_.html) |\n",
    "| 6  | Lists and Filtering Algorithms                                                          | [View](https://derekkang1.github.io/DerekCSP/2025/03/20/lists_IPYNB_2_.html) |\n",
    "| 7  | Safe Computing                                                                          | [View](https://derekkang1.github.io/DerekCSP/2025/03/20/safe-computing_IPYNB_2_.html) |\n",
    "| 8  | Legal and Ethical Concerns                                                              | [View](https://derekkang1.github.io/DerekCSP/2025/03/20/legal_IPYNB_2_.html) |\n",
    "| 9  | Computing Bias                                                                          | [View](https://derekkang1.github.io/DerekCSP/2025/03/20/daksha_group_IPYNB_2_.html) |\n",
    "| 10 | Crowdsourcing in Computing                                                              | [View](https://derekkang1.github.io/DerekCSP/2025/03/20/crowdsourcing_IPYNB_2_.html) |\n",
    "| 11 | Digital Divide Hacks                                                                    | [View](https://derekkang1.github.io/DerekCSP/2025/03/20/adi_group_IPYNB_2_.html) |\n",
    "| 12 | Beneficial and Harmful Effects of Computing                                             | [View](https://derekkang1.github.io/DerekCSP/2025/03/20/arhaan_group_IPYNB_2_.html) |\n",
    "| 13 | 3.1 Homework                                                                 | Taught |\n",
    "| 14 | 3.2 Homework                                                                             | [View](https://derekkang1.github.io/DerekCSP/classteach/3_2) |\n",
    "| 15 | 3.3 Homework                                                                             | [View](https://derekkang1.github.io/DerekCSP/classteach/3_3) |\n",
    "| 16 | 3.4 Homework                                                                | Taught |\n",
    "| 17 | 3.5 Homework                                                                             | [View](https://derekkang1.github.io/DerekCSP/classteach/3_5) |\n",
    "| 18 | 3.6 Homework                                                                             | [View](https://derekkang1.github.io/DerekCSP/classteach/3_6) |\n",
    "| 19 | 3.7 Homework                                                                             | [View](https://derekkang1.github.io/DerekCSP/classteach/3_6) |\n",
    "| 20 | 3.8 Homework                                                                             | [View](https://derekkang1.github.io/DerekCSP/classteach/3_8) |\n",
    "| 21 | 3.10 Homework                                                                           | [View](https://derekkang1.github.io/DerekCSP/classteach/3_10) |\n"
   ]
  },
  {
   "cell_type": "markdown",
   "metadata": {},
   "source": [
    "## Reflection\n",
    "\n",
    "Teaching my classmates helped me learn the material better because I had to explain things clearly and simply. When I taught something, I had to really understand it first. This made me think harder about how things work and why we do them a certain way. While working on Popcorn Hacks and Homework Hacks, we shared ideas and helped each other solve problems. If someone got stuck, we could figure it out together by trying different things. I also learned from hearing how others explained their thinking. These group activities made class more active and interesting. Instead of just learning on my own, I was learning by talking, doing, and helping. This made everything stick better and feel more useful."
   ]
  }
 ],
 "metadata": {
  "kernelspec": {
   "display_name": ".venv",
   "language": "python",
   "name": "python3"
  },
  "language_info": {
   "codemirror_mode": {
    "name": "ipython",
    "version": 3
   },
   "file_extension": ".py",
   "mimetype": "text/x-python",
   "name": "python",
   "nbconvert_exporter": "python",
   "pygments_lexer": "ipython3",
   "version": "3.10.12"
  }
 },
 "nbformat": 4,
 "nbformat_minor": 2
}
