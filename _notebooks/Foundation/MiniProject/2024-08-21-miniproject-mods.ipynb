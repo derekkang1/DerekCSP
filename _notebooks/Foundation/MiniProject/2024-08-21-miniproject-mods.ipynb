{
 "cells": [
  {
   "cell_type": "raw",
   "metadata": {
    "vscode": {
     "languageId": "raw"
    }
   },
   "source": [
    "---\n",
    "layout: post\n",
    "title: Mini Project-Mods\n",
    "description:  This is very cool gaming blog!!\n",
    "type: issues \n",
    "comments: true\n",
    "permalink: /miniproject/mods\n",
    "menu: nav/miniproject.html\n",
    "---"
   ]
  },
  {
   "cell_type": "markdown",
   "metadata": {
    "vscode": {
     "languageId": "html"
    }
   },
   "source": [
    "<html lang=\"en\">\n",
    "<head>\n",
    "    <meta charset=\"UTF-8\">\n",
    "    <meta name=\"viewport\" content=\"width=device-width, initial-scale=1.0\">\n",
    "    <title>Gaming Blog</title>\n",
    "    <link rel=\"stylesheet\" href=\"styles.css\">\n",
    "</head>\n",
    "<body>\n",
    "    <main>\n",
    "        <section id=\"mods\">\n",
    "            <h2>Mods</h2>\n",
    "            <p>Popular mods for different games.</p>\n",
    "                <h2>Brawl Stars</h2>\n",
    "                <p><strong>No Mods Available</strong>: Brawl Stars does not support mods or custom content. The game is designed to be played as is, and modifying it is against the terms of service.</p>\n",
    "                <h2>Valorant</h2>\n",
    "                <p><strong>No Mods Available</strong>: Valorant is a highly competitive game with strict anti-cheat measures. Mods or third-party modifications are not allowed and can result in bans. However, there are some tools for customizing crosshairs or HUDs within the game’s settings.</p>\n",
    "                <h2>Fortnite</h2>\n",
    "                <ul>\n",
    "                    <li><strong>Creative Mode</strong>: Fortnite's Creative Mode allows players to create custom maps and game modes using a variety of tools. While not traditional mods, this feature offers extensive customization.</li>\n",
    "                    <li><strong>Save the World</strong>: For those playing Fortnite's PvE mode, there are some community-created maps and challenges, but these are generally created within the game's own systems.</li>\n",
    "                </ul>\n",
    "                <h2>Among Us</h2>\n",
    "                <ul>\n",
    "                    <li><strong>Town of Us</strong>: A popular mod that adds new roles and abilities to the game, such as the \"Sheriff\" or \"Jester.\"</li>\n",
    "                    <li><strong>Skeld.net</strong>: Provides new features and custom maps for \"Among Us,\" allowing for a more customized experience.</li>\n",
    "                </ul>\n",
    "                <h2>Rocket League</h2>\n",
    "                <ul>\n",
    "                    <li><strong>BakkesMod</strong>: A popular and versatile mod for Rocket League that offers a variety of features including training tools, customizable car designs, and more.</li>\n",
    "                    <li><strong>Rocket League Mods</strong>: There are various community-created mods and plugins available through platforms like BakkesMod.</li>\n",
    "                </ul>\n",
    "                <h2>Call of Duty: Modern Warfare II</h2>\n",
    "                <p><strong>No Mods Available</strong>: The game does not officially support mods. Modding or using third-party tools can result in bans.</p>\n",
    "                <h2>Apex Legends</h2>\n",
    "                <p><strong>No Mods Available</strong>: Similar to other competitive games, Apex Legends does not support mods and using third-party tools is against the terms of service.</p>\n",
    "                <h2>Animal Crossing: New Horizons</h2>\n",
    "                <ul>\n",
    "                    <li><strong>NookLink</strong>: A tool for customizing in-game designs and managing your island.</li>\n",
    "                    <li><strong>Custom Designs</strong>: Websites like <em>Nookazon</em> or <em>Reddit’s ACNH</em> community offer custom designs and patterns that players can use in the game.</li>\n",
    "                </ul>\n",
    "                <h3>How to Use Mods:</h3>\n",
    "                <ul>\n",
    "                    <li><strong>Install Correctly</strong>: Follow the instructions provided with each mod carefully. Most mods come with installation guides.</li>\n",
    "                    <li><strong>Check Compatibility</strong>: Ensure that the mod is compatible with the current version of the game.</li>\n",
    "                    <li><strong>Backup Your Game</strong>: Before installing any mods, it’s a good idea to backup your game data to avoid any potential issues.</li>\n",
    "                </ul>\n",
    "        </section>\n",
    "    </main>\n",
    "    <footer>\n",
    "        <p>&copy; 2024 Gaming Blog</p>\n",
    "    </footer>\n",
    "    <script src=\"scripts.js\"></script>\n",
    "</body>\n",
    "</html>"
   ]
  }
 ],
 "metadata": {
  "language_info": {
   "name": "python"
  }
 },
 "nbformat": 4,
 "nbformat_minor": 2
}
