{
 "cells": [
  {
   "cell_type": "raw",
   "metadata": {
    "vscode": {
     "languageId": "raw"
    }
   },
   "source": [
    "---\n",
    "layout: post\n",
    "title: Mini Project-Community\n",
    "description:  This is very cool gaming blog!!\n",
    "type: issues \n",
    "comments: true\n",
    "permalink: /miniproject/community\n",
    "menu: nav/miniproject.html\n",
    "---"
   ]
  },
  {
   "cell_type": "markdown",
   "metadata": {
    "vscode": {
     "languageId": "html"
    }
   },
   "source": [
    "<html lang=\"en\">\n",
    "<head>\n",
    "    <meta charset=\"UTF-8\">\n",
    "    <meta name=\"viewport\" content=\"width=device-width, initial-scale=1.0\">\n",
    "    <title>Gaming Blog</title>\n",
    "    <link rel=\"stylesheet\" href=\"styles.css\">\n",
    "</head>\n",
    "<body>\n",
    "    <main>\n",
    "        <section id=\"community\">\n",
    "            <h2>Community</h2>\n",
    "            <p>Links to gaming communities and forums.</p>\n",
    "        </section>\n",
    "    </main>\n",
    "    <footer>\n",
    "        <p>&copy; 2024 Gaming Blog</p>\n",
    "    </footer>\n",
    "    <script src=\"scripts.js\"></script>\n",
    "</body>\n",
    "</html>"
   ]
  }
 ],
 "metadata": {
  "language_info": {
   "name": "python"
  }
 },
 "nbformat": 4,
 "nbformat_minor": 2
}
