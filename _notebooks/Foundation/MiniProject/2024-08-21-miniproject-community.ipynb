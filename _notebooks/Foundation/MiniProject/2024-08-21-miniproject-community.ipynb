{
 "cells": [
  {
   "cell_type": "raw",
   "metadata": {
    "vscode": {
     "languageId": "raw"
    }
   },
   "source": [
    "---\n",
    "layout: post\n",
    "title: Mini Project-Community\n",
    "description:  This is very cool gaming blog!!\n",
    "type: issues \n",
    "comments: true\n",
    "permalink: /miniproject/community\n",
    "menu: nav/miniproject.html\n",
    "---"
   ]
  },
  {
   "cell_type": "markdown",
   "metadata": {
    "vscode": {
     "languageId": "html"
    }
   },
   "source": [
    "<html lang=\"en\">\n",
    "<head>\n",
    "    <meta charset=\"UTF-8\">\n",
    "    <meta name=\"viewport\" content=\"width=device-width, initial-scale=1.0\">\n",
    "    <title>Gaming Blog</title>\n",
    "    <link rel=\"stylesheet\" href=\"styles.css\">\n",
    "</head>\n",
    "<body>\n",
    "    <main>\n",
    "        <section id=\"community\">\n",
    "            <h1>Game Communities and Forums</h1>\n",
    "            <h2>Brawl Stars</h2>\n",
    "            <ul>\n",
    "                <li><a href=\"https://supercell.com/en/games/brawlstars/\" target=\"_blank\">Brawl Stars Community Forum</a></li>\n",
    "                <li><a href=\"https://www.reddit.com/r/BrawlStars/\" target=\"_blank\">Brawl Stars Subreddit</a></li>\n",
    "            </ul>\n",
    "            <h2>Valorant</h2>\n",
    "            <ul>\n",
    "                <li><a href=\"https://www.reddit.com/r/VALORANT/\" target=\"_blank\">Valorant Subreddit</a></li>\n",
    "                <li><a href=\"https://www.valorantforum.com/\" target=\"_blank\">Valorant Forum</a></li>\n",
    "                <li><a href=\"https://discord.gg/valorant\" target=\"_blank\">Valorant Discord</a></li>\n",
    "            </ul>\n",
    "            <h2>Fortnite</h2>\n",
    "            <ul>\n",
    "                <li><a href=\"https://www.epicgames.com/fortnite/forums\" target=\"_blank\">Fortnite Forums</a></li>\n",
    "                <li><a href=\"https://www.reddit.com/r/FortNiteBR/\" target=\"_blank\">Fortnite Subreddit</a></li>\n",
    "                <li><a href=\"https://discord.gg/fortnite\" target=\"_blank\">Fortnite Discord</a></li>\n",
    "            </ul>\n",
    "            <h2>Among Us</h2>\n",
    "            <ul>\n",
    "                <li><a href=\"https://www.reddit.com/r/AmongUs/\" target=\"_blank\">Among Us Subreddit</a></li>\n",
    "                <li><a href=\"https://discord.gg/amongus\" target=\"_blank\">Among Us Discord</a></li>\n",
    "                <li><a href=\"https://www.nerdunit.com/forums/among-us\" target=\"_blank\">Nerd Unit Among Us Forum</a></li>\n",
    "            </ul>\n",
    "            <h2>Rocket League</h2>\n",
    "            <ul>\n",
    "                <li><a href=\"https://rocketleagueforums.com/\" target=\"_blank\">Rocket League Forums</a></li>\n",
    "                <li><a href=\"https://www.reddit.com/r/RocketLeague/\" target=\"_blank\">Rocket League Subreddit</a></li>\n",
    "                <li><a href=\"https://discord.gg/rocketleague\" target=\"_blank\">Rocket League Discord</a></li>\n",
    "            </ul>\n",
    "            <h2>Call of Duty: Modern Warfare II</h2>\n",
    "            <ul>\n",
    "                <li><a href=\"https://www.callofduty.com/community\" target=\"_blank\">Official Call of Duty Community</a></li>\n",
    "                <li><a href=\"https://www.reddit.com/r/modernwarfare/\" target=\"_blank\">Modern Warfare Subreddit</a></li>\n",
    "                <li><a href=\"https://discord.gg/callofduty\" target=\"_blank\">Call of Duty Discord</a></li>\n",
    "            </ul>\n",
    "            <h2>Apex Legends</h2>\n",
    "            <ul>\n",
    "                <li><a href=\"https://www.reddit.com/r/apexlegends/\" target=\"_blank\">Apex Legends Subreddit</a></li>\n",
    "                <li><a href=\"https://www.apexlegends.com/community\" target=\"_blank\">Official Apex Legends Community</a></li>\n",
    "                <li><a href=\"https://discord.gg/apexlegends\" target=\"_blank\">Apex Legends Discord</a></li>\n",
    "            </ul>\n",
    "            <h2>Animal Crossing: New Horizons</h2>\n",
    "            <ul>\n",
    "                <li><a href=\"https://www.reddit.com/r/AnimalCrossing/\" target=\"_blank\">Animal Crossing Subreddit</a></li>\n",
    "                <li><a href=\"https://acnh.circlly.com/\" target=\"_blank\">ACNH Circlly Community</a></li>\n",
    "                <li><a href=\"https://discord.gg/animalcrossing\" target=\"_blank\">Animal Crossing Discord</a></li>\n",
    "            </ul>\n",
    "    </section>\n",
    "    <footer>\n",
    "        <p>&copy; 2024 Gaming Blog</p>\n",
    "    </footer>\n",
    "    <script src=\"scripts.js\"></script>"
   ]
  }
 ],
 "metadata": {
  "language_info": {
   "name": "python"
  }
 },
 "nbformat": 4,
 "nbformat_minor": 2
}
