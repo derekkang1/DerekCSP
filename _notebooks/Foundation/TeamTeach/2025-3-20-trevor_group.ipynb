{
 "cells": [
  {
   "cell_type": "raw",
   "metadata": {
    "vscode": {
     "languageId": "raw"
    }
   },
   "source": [
    "---\n",
    "layout: post\n",
    "title: Big Idea 5.4 Crowdsourcing\n",
    "type: issues \n",
    "comments: true\n",
    "---"
   ]
  },
  {
   "cell_type": "markdown",
   "metadata": {},
   "source": [
    "### 10/10 Mango Intro"
   ]
  },
  {
   "cell_type": "markdown",
   "metadata": {},
   "source": [
    "## MC\n",
    "The correct option is C, Collecting contributions from a large group of people, since it aks for diverse opinions of a large group of people."
   ]
  },
  {
   "cell_type": "markdown",
   "metadata": {},
   "source": [
    "## Popcorn Hack #3\n",
    "One example of croudsourcing are online polls and surveys. For example, within the youtube feed, creators are able to ask viewers and users to choose between options on a poll. YouTube polls allow creators to ask their audience questions through the Community tab or during live streams. These polls rely on crowdsourcing because they gather opinions, feedback, or preferences from a large number of people, rather than a single individual or a small team. By leveraging the opinions of many users, YouTube polls function as a simple yet effective form of crowdsourcing to guide content creators."
   ]
  },
  {
   "cell_type": "markdown",
   "metadata": {},
   "source": [
    "## Homework Hack\n",
    "\n",
    "<iframe style=\"border-radius:12px\" src=\"https://open.spotify.com/embed/track/2aSC2xhRxOLiiZZVjhbylH?utm_source=generator\" width=\"100%\" height=\"352\" frameBorder=\"0\" allowfullscreen=\"\" allow=\"autoplay; clipboard-write; encrypted-media; fullscreen; picture-in-picture\" loading=\"lazy\"></iframe>\n",
    "\n",
    "<iframe style=\"border-radius:12px\" src=\"https://open.spotify.com/embed/track/3azJifCSqg9fRij2yKIbWz?utm_source=generator\" width=\"100%\" height=\"352\" frameBorder=\"0\" allowfullscreen=\"\" allow=\"autoplay; clipboard-write; encrypted-media; fullscreen; picture-in-picture\" loading=\"lazy\"></iframe>\n",
    "\n",
    "Crowdsourcing can enhance a Spotify playlist by incorporating diverse musical tastes. When multiple users add tracks, the playlist benefits from new music, exposing listeners to new artists and genres they might not have explored otherwise. It also fosters community engagement, as shared playlists create a sense of collaboration and collective curation. However, crowdsourcing can negatively impact quality by leading to an inconsistent theme, with songs that may not fit the intended mood or genre. fortunantly, with this playlist, were fixed this by deciding on a theme early on. Additionally, excessive contributions can make the playlist cluttered and overwhelming, reducing its overall coherence."
   ]
  }
 ],
 "metadata": {
  "kernelspec": {
   "display_name": ".venv",
   "language": "python",
   "name": "python3"
  },
  "language_info": {
   "codemirror_mode": {
    "name": "ipython",
    "version": 3
   },
   "file_extension": ".py",
   "mimetype": "text/x-python",
   "name": "python",
   "nbconvert_exporter": "python",
   "pygments_lexer": "ipython3",
   "version": "3.10.12"
  }
 },
 "nbformat": 4,
 "nbformat_minor": 2
}
