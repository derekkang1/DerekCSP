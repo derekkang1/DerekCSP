{
 "cells": [
  {
   "cell_type": "raw",
   "metadata": {
    "vscode": {
     "languageId": "raw"
    }
   },
   "source": [
    "---\n",
    "layout: post\n",
    "title: Big Idea 5.1 Beneficial and Harmful Effects of Computing\n",
    "type: issues \n",
    "comments: true\n",
    "---"
   ]
  },
  {
   "cell_type": "markdown",
   "metadata": {},
   "source": [
    "## Popcorn Hack #1\n",
    "One example of a beneficial impact of technology is enhanced communication. Long-distance communication has been made easy with improved technology such as texts and emails over the internet and internaitonal phone calls. These are improved with statelite technology for wireless global conneciton. This is especially beneficial for families separated by distance and businesses operating internationally, ulitmently creating a more interconnected and better world.\n",
    "\n",
    "One negative affect of technology can also be enchanced communication across the internet, which can make the spread of fake news and misinformation quick and easy. Posts on open social media sites and the internet can be fully anonymous and can be seen by millions across the world, giving an incentive to people who want to spread such misinformation. Spreading fake news is unethical, by misleading the public and influencing opinions based on false narratives. This can lead to confusion or fear, leading to social division"
   ]
  },
  {
   "cell_type": "markdown",
   "metadata": {},
   "source": [
    "## Popcorn Hack #2\n",
    "Negative effects of technology are ones that harms either society or the users of that technology taht come across with its use such as cybersecurity risks, privacy breaches, misinformation spread, social isolation, and mental health damage. To reduce these harmful impacts, responsible programming can come into play. Ethical AI can be used to prevent bias and msiinfromation, strong cybersecurity measures can be used to protect data, and privacy-by-design principles can be used to ensure that users have access and control over their own data."
   ]
  },
  {
   "cell_type": "markdown",
   "metadata": {},
   "source": [
    "## Popcorn Hack #3\n",
    "It is important to understand the unintended consqeuences of technology, like dopamnie driven technology because it can greatly impact one's life without them knowing about it. We need to make sure to recognize and mitigate tech's potential harms while maximizing its benefits and ease of life it brings us. Dopamine-driven technology, such as social media or video games, are able to engage users by releasing dopamine in the brain, can cause a reliance on the dopamine from these things, causing an addiction. THerefore, it is important to understand how this happens and take preventative measures like using time limits to try to avoid the unintended consequences like addiction. SOme more unintended consequences are Reduced Attention Span, poor sleep queality, and social isolation."
   ]
  },
  {
   "cell_type": "markdown",
   "metadata": {},
   "source": [
    "## Homework Hack #1\n",
    "AI-Powered Wearable Health Trackers\n",
    "Original Use Case\n",
    "Wearable health trackers, such as smartwatches and fitness bands, were originally designed to monitor physical activity, heart rate, sleep patterns, and overall fitness to help users maintain a healthy lifestyle.\n",
    "\n",
    "New Use Case: AI for Early Disease Detection\n",
    "AI-powered wearables could be used to detect early signs of diseases such as heart disease, diabetes, and even neurological disorders like Parkinson’s. By continuously analyzing biometric data, AI could identify abnormal patterns and alert users or healthcare providers before symptoms become severe.\n",
    "\n",
    "Impact Analysis\n",
    "Benefits:\n",
    "\n",
    "Early Diagnosis & Prevention – Detecting diseases early can lead to timely treatment, improving health outcomes and saving lives.\n",
    "Reduced Healthcare Costs – Preventative monitoring can reduce the need for expensive treatments and hospital visits.\n",
    "Risks:\n",
    "\n",
    "Privacy & Data Security Concerns – Continuous health monitoring raises concerns about data protection and potential misuse by insurance companies or advertisers.\n",
    "False Alarms & Anxiety – AI may sometimes misinterpret data, leading to unnecessary stress or medical visits.\n",
    "By repurposing wearable AI for disease detection, we can transform healthcare, making it more proactive and personalized while addressing data privacy and accuracy challenges."
   ]
  },
  {
   "cell_type": "markdown",
   "metadata": {},
   "source": [
    "## Homework Hack #2"
   ]
  },
  {
   "cell_type": "markdown",
   "metadata": {},
   "source": [
    "## Homework Hack #3"
   ]
  }
 ],
 "metadata": {
  "language_info": {
   "name": "python"
  }
 },
 "nbformat": 4,
 "nbformat_minor": 2
}
