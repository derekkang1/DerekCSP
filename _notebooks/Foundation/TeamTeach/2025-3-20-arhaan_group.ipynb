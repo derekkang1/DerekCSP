{
 "cells": [
  {
   "cell_type": "raw",
   "metadata": {
    "vscode": {
     "languageId": "raw"
    }
   },
   "source": [
    "---\n",
    "layout: post\n",
    "title: Big Idea 5.1 Beneficial and Harmful Effects of Computing\n",
    "type: issues \n",
    "comments: true\n",
    "---"
   ]
  },
  {
   "cell_type": "markdown",
   "metadata": {},
   "source": [
    "## Popcorn Hack #1\n",
    "One example of a beneficial impact of technology is enhanced communication. Long-distance communication has been made easy with improved technology such as texts and emails over the internet and internaitonal phone calls. These are improved with statelite technology for wireless global conneciton. This is especially beneficial for families separated by distance and businesses operating internationally, ulitmently creating a more interconnected and better world.\n",
    "\n",
    "One negative affect of technology can also be enchanced communication across the internet, which can make the spread of fake news and misinformation quick and easy. Posts on open social media sites and the internet can be fully anonymous and can be seen by millions across the world, giving an incentive to people who want to spread such misinformation. Spreading fake news is unethical, by misleading the public and influencing opinions based on false narratives. This can lead to confusion or fear, leading to social division"
   ]
  },
  {
   "cell_type": "markdown",
   "metadata": {},
   "source": [
    "## Popcorn Hack #2\n",
    "Negative effects of technology are ones that harms either society or the users of that technology taht come across with its use such as cybersecurity risks, privacy breaches, misinformation spread, social isolation, and mental health damage. To reduce these harmful impacts, responsible programming can come into play. Ethical AI can be used to prevent bias and msiinfromation, strong cybersecurity measures can be used to protect data, and privacy-by-design principles can be used to ensure that users have access and control over their own data."
   ]
  },
  {
   "cell_type": "markdown",
   "metadata": {},
   "source": [
    "## Popcorn Hack #3\n",
    "It is important to understand the unintended consqeuences of technology, like dopamnie driven technology because it can greatly impact one's life without them knowing about it. We need to make sure to recognize and mitigate tech's potential harms while maximizing its benefits and ease of life it brings us. Dopamine-driven technology, such as social media or video games, are able to engage users by releasing dopamine in the brain, can cause a reliance on the dopamine from these things, causing an addiction. THerefore, it is important to understand how this happens and take preventative measures like using time limits to try to avoid the unintended consequences like addiction. SOme more unintended consequences are Reduced Attention Span, poor sleep queality, and social isolation."
   ]
  },
  {
   "cell_type": "markdown",
   "metadata": {},
   "source": [
    "## Homework Hack #1\n",
    "### AI-Powered Wearable Health Trackers\n",
    "**Original Use Case**:\n",
    "Wearable health trackers were designed to monitor physical activity, heart rate, sleep patterns, and overall fitness to help users maintain a healthy lifestyle using AI. While this is good, more use cases could be made to improve its use.\n",
    "\n",
    "**New Use Case**: AI for Early Disease Detection\n",
    "\n",
    "AI-powered wearables could be used to detect early signs of diseases such as heart disease, diabetes, and even neurological disorders like Parkinson’s. This can help identify diseases before they become too severe.\n",
    "\n",
    "**Benefits**:\n",
    "- Early Diagnosis & Prevention; improving health outcomes and saving lives\n",
    "- Reduced Healthcare Costs; no need for expensive ttests at hospitals\n",
    "\n",
    "**Risks**:\n",
    "- Privacy & Data Security Concerns – data protection and potential misuse by insurance companies or advertisers are areas of concern\n",
    "- False Alarms - AI has the chance to give false readings, which is why it's important to thoroughly test the AI algorithm before real=life use to make sure it is accurate."
   ]
  },
  {
   "cell_type": "markdown",
   "metadata": {},
   "source": [
    "## Homework Hack #2\n",
    "**Problem**: Misinformation Spread by AI Chatbots\n",
    "\n",
    "**Risk**:\n",
    "AI-powered chatbots can generate and spread misinformation by providing inaccurate or biased responses when searchnign the internet, which can mislead users and  spread fake news.\n",
    "\n",
    "**Solutions**:\n",
    "- Fact-Checking Integration – real-time verification by cross-referencing responses with trusted sources that have been human verified. The Ai can then give  socre of how reliable thier response was when crossing checking to make sure the user is informed.\n",
    "- AI Transparency – have AI systems disclose all of their sources for the user to see so they can notice if a source is unliable and be cautious (like reddit)\n",
    "\n",
    "**Reflection**:\n",
    "AI chatbots are essential to this new age of technology, but we need to be aware of misinformation that can end up shaping public opinion to influencing major decisions. By designing AI systems with transparency and accountability, we can create a more reliable online world."
   ]
  },
  {
   "cell_type": "markdown",
   "metadata": {},
   "source": [
    "## Homework Hack #3\n",
    "\n",
    "**Example**: Self-Driving Cars Ethical Dilemma in Accidents\n",
    "\n",
    "**Summary of What Happened**:\n",
    "AI-controlled vehicles have faced ethical dilemmas in accident scenarios, such as deciding whom to prioritize in unavoidable crashes. For example, in 2018, an Uber self-driving car in Arizona had to decide between saving the life of a pedestrian on the road or saving the lives of the passengers in the car. Fortunantly the car was oging slow enough so that both the passengers and pedestrian were able to survive.\n",
    "\n",
    "**Evaluation of Response**:\n",
    "After the accident, Uber paused its self-driving program, improved its AI detection systems, and implemented stricter safety measures, including requiring human drivers to monitor AI systems more closely. Governments also introduced stricter regulations for self-driving vehicle testing.\n",
    "\n",
    "**Preventative Measure**:\n",
    "Developers could have conducted more rigorous real-world testing in various conditions, including nighttime and unpredictable pedestrian behavior. Additionally, implementing ethical AI decision-making frameworks could help AI better handle complex moral dilemmas on the road. Making these ethial evalutions public will help make sure people understand how AI is making desiciosn and it won't recive as much backlash."
   ]
  }
 ],
 "metadata": {
  "language_info": {
   "name": "python"
  }
 },
 "nbformat": 4,
 "nbformat_minor": 2
}
