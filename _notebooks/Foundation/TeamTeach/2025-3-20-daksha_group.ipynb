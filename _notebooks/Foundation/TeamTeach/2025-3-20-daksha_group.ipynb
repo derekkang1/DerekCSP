{
 "cells": [
  {
   "cell_type": "raw",
   "metadata": {
    "vscode": {
     "languageId": "raw"
    }
   },
   "source": [
    "---\n",
    "layout: post\n",
    "title: Big Idea 5.3 Computer Bias\n",
    "type: issues \n",
    "comments: true\n",
    "---"
   ]
  },
  {
   "cell_type": "markdown",
   "metadata": {},
   "source": [
    "## Popcorn Hack #1\n",
    "One example of a movie that has bias could be Crazy Rich Asians. The movie has been critiqued for presenting a biased view of Asian life. The film primarily focuses on the extremely wealthy elite in Singapore, showcasing luxurious lifestyles and reinforcing stereotypes about wealth and materialism within Asian communities. It does not represent the full diversity of Asian peoples, as only a small percentage are in that class, and most do not live this lifestyle. \n",
    "\n",
    "The people affected are Asian viewers from lower-income backgrounds who may feel that the film does not represent them, and general audiences that may come away with a skewed understanding of Asian culture, associating it only with wealth and luxury.\n",
    "\n",
    "This bias likely comes from a creative decision to appeal to international audiences with a glamorous, escapist story centered on wealth rather than wanting to address the diversity and challenges within the broader Asian community."
   ]
  },
  {
   "cell_type": "markdown",
   "metadata": {},
   "source": [
    "## Popcorn Hack #2 \n",
    "One time technology didn't work well for me was when I tried to use fingerprint regognition on my phone when my finger was slightly wet. THis didn't allow the sensor to work properly, and I wasn't able to use the convinence of unlocking my phone with a simple touch. It was frustrating because I rely on the fingerprint recognition for quick access, and having to wipe my finger dry or use an alternative method felt like a setback. It made me feel like the technology wasn't as reliable as I expected. One way this technology could be improved to be more inclusive is by making the fingerprint sensor more adaptive, allowing it to recognize prints even when they are slightly wet or oily."
   ]
  },
  {
   "cell_type": "markdown",
   "metadata": {},
   "source": [
    "## Popcorn Hack #3\n",
    "Bias could sneak into the fitness tracking app's evaluations if the fitness testing app was only tested witha limited dataset of similarily fit individuals. Users who do not fall into this category like older adults, people with disabilities, or those with chronic health conditions may experience incorrect evalutions of their fitness performance. This could make the app less effective or even discouraging for those users. One feature I would add to helpimprove this is a system of presets that have different individuals goals, such as weight loss or muscle gain, which can use differnt test daata collected in order to better fit specific types of users. Customizable difficulty levels and adaptive tracking methods, such as alternative goals for those with mobility limitations, would help ensure fair and accurate performance evaluations for all users."
   ]
  },
  {
   "cell_type": "markdown",
   "metadata": {},
   "source": [
    "## Homework Hack #1\n",
    "### Spotify\n",
    "\n",
    "### Identifying Potential Bias\n",
    "Spotify uses algorithms to recommend music based on listening history wich can lead to genre and artist bias. If a user only listens to one type of music, the platform tends to only suggest similar tracks in taht genre. This can limit exposure to diverse artists, especially independent or lesser-known musicians. A large numer of spotiy users are in the younger generation, so the algorith will like to recommend and show music carter towards the younger genrations like pop, which will underrepresent the older or other communities.\n",
    "\n",
    "### Analyzing the Cause\n",
    "This bias likely come from algorithm design and data collection methods. Spotify's recommendation system relies on past listening habits, user interactions such as skipping or liking songs, and the listening behaviors of similar users. Because the algorithm prioritizes engagement, it reinforcing existing music tastes rather than introducing truly diverse content. This is because Spotify needs users to continue listening to music they enjoy so that they will keep making ad momey.\n",
    "\n",
    "### Proposed Solution\n",
    "To make Spotify more inclusive, developers could introduce a new mode that intentionally suggests songs from genre that they haven't listen to before form underrepresented genres, lesser-known artists, or different cultural backgrounds. Additionally, users could have an option to adjust how much variety they want in their recommendations, giving them more control over their discovery experience. This would help break computer bias in the algorithm and encourage  musical exploration."
   ]
  }
 ],
 "metadata": {
  "language_info": {
   "name": "python"
  }
 },
 "nbformat": 4,
 "nbformat_minor": 2
}
