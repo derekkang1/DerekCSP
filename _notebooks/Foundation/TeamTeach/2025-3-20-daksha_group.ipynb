{
 "cells": [
  {
   "cell_type": "raw",
   "metadata": {
    "vscode": {
     "languageId": "raw"
    }
   },
   "source": [
    "---\n",
    "layout: post\n",
    "title: Big Idea 5.3 Computer Bias\n",
    "type: issues \n",
    "comments: true\n",
    "---"
   ]
  },
  {
   "cell_type": "markdown",
   "metadata": {},
   "source": [
    "## Popcorn Hack #1\n",
    "One example of a movie that has bias could be "
   ]
  },
  {
   "cell_type": "markdown",
   "metadata": {},
   "source": [
    "## Popcorn Hack #2 \n",
    "One time technology didn't work well for me was when I tried to use fingerprint regognition on my phone when my finger was slightly wet. THis didn't allow the sensor to work properly, and I wasn't able to use the convinence of unlocking my phone with a "
   ]
  },
  {
   "cell_type": "markdown",
   "metadata": {},
   "source": [
    "## Popcorn Hack #3\n",
    "Bias could sneak into the fitness tracking app's evaluations if the fitness testing app was only tested witha limited dataset of similarily fit individuals. Users who do not fall into this category may experience incorrect evalutions of their fitness performance. One feature I would add to helpimprove this is a system of presets that have different individuals goals, such as weight loss or muscle gain, which can use differnt test daata collected in order to better fit specific types of users. "
   ]
  },
  {
   "cell_type": "markdown",
   "metadata": {},
   "source": [
    "## Homework Hack #1\n"
   ]
  }
 ],
 "metadata": {
  "language_info": {
   "name": "python"
  }
 },
 "nbformat": 4,
 "nbformat_minor": 2
}
