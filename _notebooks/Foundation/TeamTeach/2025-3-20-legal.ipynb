{
 "cells": [
  {
   "cell_type": "raw",
   "metadata": {
    "vscode": {
     "languageId": "raw"
    }
   },
   "source": [
    "---\n",
    "layout: post\n",
    "title: Big Idea 5.5 Legal Ethical Concerns\n",
    "type: issues \n",
    "comments: true\n",
    "---"
   ]
  },
  {
   "cell_type": "markdown",
   "metadata": {},
   "source": [
    "## Popcorn Hack #1\n",
    "Some awys to protect intellectual property are:\n",
    "\n",
    "- Register Your Intellectual Property with patents, trademarks, and copyrights\n",
    "- Use Watermarks in digital content like images, videos, or document\n",
    "- License Agreements: Define terms of use through legal agreements\n",
    "- Monitor and Enforce Rights regularly\n",
    "- Use Technology: Implement Digital Rights Management (DRM) tools"
   ]
  },
  {
   "cell_type": "markdown",
   "metadata": {},
   "source": [
    "## Popcorn Hack #2 \n",
    "An MIT License is an open-source software license that allows users of that software to freely use, modify, distribute, and sublicense the software, as long as the original copyright notice and disclaimer of liability are included in the new branch or user modification. They are fairly simple and widely used.\n",
    "\n",
    "### Here is what an MIT License might look like for my site:\n",
    "\n",
    "MIT License\n",
    "\n",
    "Copyright (c) 2025 [Derek Kang]\n",
    "\n",
    "Permission is hereby granted, free of charge, to any person obtaining a copy of this software and associated documentation files (the “Software”), to deal in the Software without restriction, including without limitation the rights to use, copy, modify, merge, publish, distribute, sublicense, and/or sell copies of the Software, and to permit persons to whom the Software is furnished to do so, subject to the following conditions:\n",
    "\n",
    "The above copyright notice and this permission notice shall be included in all copies or substantial portions of the Software.\n",
    "\n",
    "THE SOFTWARE IS PROVIDED “AS IS”, WITHOUT WARRANTY OF ANY KIND, EXPRESS OR IMPLIED, INCLUDING BUT NOT LIMITED TO THE WARRANTIES OF MERCHANTABILITY, FITNESS FOR A PARTICULAR PURPOSE AND NONINFRINGEMENT. IN NO EVENT SHALL THE AUTHORS OR COPYRIGHT HOLDERS BE LIABLE FOR ANY CLAIM, DAMAGES OR OTHER LIABILITY, WHETHER IN AN ACTION OF CONTRACT, TORT OR OTHERWISE, ARISING FROM, OUT OF OR IN CONNECTION WITH THE SOFTWARE OR THE USE OR OTHER DEALINGS IN THE SOFTWARE."
   ]
  },
  {
   "cell_type": "markdown",
   "metadata": {},
   "source": [
    "## Popcorn Hack #3\n",
    "A Creative Commons (CC) License is a type of public copyright license that allows creators to grant others permission to use their work under specific conditions. There are many different types like CC BY – Free use with credit, or CC BY-NC – Non-commercial use only.\n",
    "\n",
    "Some expections are Fair Use, which allows limited use of copyrighted material without permission, based on factors such as:\n",
    "\n",
    "Purpose (e.g., education, research, news reporting, criticism, parody)\n",
    "\n",
    "Nature of the work (factual works may have more flexibility)\n",
    "\n",
    "Amount used (smaller portions are more likely to be fair use)\n",
    "\n",
    "Effect on market value"
   ]
  },
  {
   "cell_type": "markdown",
   "metadata": {},
   "source": [
    "## Popcorn Hack #4\n",
    "\n",
    "I talked with Adi, and we agreed that you should first understand copyright laws to avoid any mistakes with them or formatting. Then, ensure you use original content, obtain permission when necessary, and prevent plagiarism. Also, if you're publishing your own work, consider using copyright, trademarks, and proper registration."
   ]
  },
  {
   "cell_type": "markdown",
   "metadata": {},
   "source": [
    "## Homework Hack #1\n",
    "\n",
    "**Task 1**\n",
    "Apache License\n",
    "- A permissive license whose main conditions require preservation of copyright and license notices.\n",
    "\n",
    "**Task 2:**\n",
    "I chose the Apache License since it allows others to use, modify, and share my code while protecting my own work with copyright enforcement. This is helpful for a school project because it encourages learning and collaboration between me and my peers who may use my repository. It also ensures that anyone using my code gives proper credit and follows the rules of the license.\n",
    "\n",
    "**Task 3**\n",
    "[Personal Repository License](https://github.com/derekkang1/DerekCSP/blob/main/LICENSE)\n",
    "\n",
    "**Task 4**\n",
    "My group's Pilot City project, SD IMOP is a platform made for city infrastructure managers and developers. It helps find and fix problems in city infrastructure early, before they become serious and dangerous. This approach focuses on preventing big issues by solving them ahead of time. We are going to use an MIT license to protect our work.\n",
    "\n",
    "**Task 5**\n",
    "[IMPO Repository License](https://github.com/adik1025/imop_frontend/blob/main/LICENSE)"
   ]
  }
 ],
 "metadata": {
  "kernelspec": {
   "display_name": ".venv",
   "language": "python",
   "name": "python3"
  },
  "language_info": {
   "codemirror_mode": {
    "name": "ipython",
    "version": 3
   },
   "file_extension": ".py",
   "mimetype": "text/x-python",
   "name": "python",
   "nbconvert_exporter": "python",
   "pygments_lexer": "ipython3",
   "version": "3.10.12"
  }
 },
 "nbformat": 4,
 "nbformat_minor": 2
}
