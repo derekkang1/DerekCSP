{
 "cells": [
  {
   "cell_type": "raw",
   "metadata": {
    "vscode": {
     "languageId": "raw"
    }
   },
   "source": [
    "---\n",
    "layout: post\n",
    "title: Big Idea 3 Color Codes/Images/Base64\n",
    "type: issues \n",
    "comments: true\n",
    "---"
   ]
  },
  {
   "cell_type": "markdown",
   "metadata": {},
   "source": [
    "## Popcorn Hack #1\n",
    "Which format would you use for an image with a transparent background that needs to stay sharp on any screen?\n",
    "\n",
    "PNG would be the best format because it supports transparent backgrounds and keeps images sharp without losing quality and is efficient in storing data.\n",
    "\n",
    "### MCQ\n",
    "B. PNG"
   ]
  },
  {
   "cell_type": "markdown",
   "metadata": {},
   "source": [
    "## Popcorn Hack #2 \n",
    "One downside of Base64 is that it increases the size of the encoded data by approximately 33%, which can lead to higher storage and bandwidth usage compared to the original binary format.\n",
    "\n",
    "### MCQ\n",
    "B. It increases the size of the data.\n",
    "Base64 encoding increases the size of data, as it converts binary data into text characters."
   ]
  },
  {
   "cell_type": "markdown",
   "metadata": {},
   "source": [
    "## Homework Hack\n",
    "\n",
    "1. What is a hex color code? What are some examples?\n",
    "A hex color code is a six-digit code used in HTML, CSS, and other design tools to represent colors. It uses hexadecimal (base-16) values to define the intensity of red, green, and blue in a color.\n",
    "\n",
    "Format: #RRGGBB\n",
    "\n",
    "RR = red (00 to FF)\n",
    "\n",
    "GG = green (00 to FF)\n",
    "\n",
    "BB = blue (00 to FF)\n",
    "\n",
    "Examples:\n",
    "\n",
    "#FF0000 → red\n",
    "\n",
    "#00FF00 → green\n",
    "\n",
    "#0000FF → blue\n",
    "\n",
    "#FFFFFF → white\n",
    "\n",
    "#000000 → black\n",
    "\n",
    "2. What is Base64 and how is it used with images?\n",
    "Base64 is a method for encoding binary data (like an image) into a text format using only ASCII characters. It’s commonly used to embed image data directly inside web pages or scripts.\n",
    "\n",
    "When an image is Base64-encoded, it becomes a long string that can be used in an img tag or a data URI.\n",
    "\n",
    "\n",
    "3. Why might you use Base64 instead of a regular image file?\n",
    "\n",
    "You might use Base64 instead of linking to an image file when:\n",
    "- You want to embed the image directly in the document without requiring an external file.\n",
    "- You’re working in environments with no file system access, like online notebooks (e.g., Google Colab).\n",
    "- You want to send images as text, for example, in JSON or XML payloads over a network.\n",
    "\n",
    "When sharing notebooks with others, Base64 ensures the image stays embedded and doesn’t break due to missing file links.\n",
    "\n",
    "4. Insert an image into your Jupyter notebook and explain how it’s stored and displayed."
   ]
  },
  {
   "cell_type": "code",
   "execution_count": null,
   "metadata": {},
   "outputs": [],
   "source": [
    "import base64\n",
    "from IPython.display import HTML\n",
    "\n",
    "# Use the real path to the image file\n",
    "with open(\"images/2018cb_mcq/mcq1.png\", \"rb\") as image_file:\n",
    "    encoded_string = base64.b64encode(image_file.read()).decode('utf-8')\n",
    "\n",
    "# Create the HTML tag with the Base64 string\n",
    "html_code = f'<img src=\"data:image/png;base64,{encoded_string}\" />'\n",
    "\n",
    "# Display the imag\n",
    "HTML(html_code)\n"
   ]
  },
  {
   "cell_type": "markdown",
   "metadata": {},
   "source": [
    "<img src=\"{{site.baseurl}}/images/2018cb_mcq/mcq1.png\"/>"
   ]
  },
  {
   "cell_type": "markdown",
   "metadata": {},
   "source": [
    "### How It’s Stored and Displayed\n",
    "The image is read as binary data.\n",
    "\n",
    "That binary data is converted to a Base64 string, which turns it into text.\n",
    "\n",
    "The <img> tag uses a data URI (data:image/png;base64,...) to embed the image directly into the notebook.\n",
    "\n",
    "This method stores the image inline—you don’t need the image file anymore after encoding.\n",
    "\n",
    "### Benefits\n",
    "The image is fully embedded in the notebook.\n",
    "\n",
    "Great for sharing notebooks without worrying about missing files.\n",
    "\n"
   ]
  }
 ],
 "metadata": {
  "kernelspec": {
   "display_name": ".venv",
   "language": "python",
   "name": "python3"
  },
  "language_info": {
   "codemirror_mode": {
    "name": "ipython",
    "version": 3
   },
   "file_extension": ".py",
   "mimetype": "text/x-python",
   "name": "python",
   "nbconvert_exporter": "python",
   "pygments_lexer": "ipython3",
   "version": "3.10.12"
  }
 },
 "nbformat": 4,
 "nbformat_minor": 2
}
