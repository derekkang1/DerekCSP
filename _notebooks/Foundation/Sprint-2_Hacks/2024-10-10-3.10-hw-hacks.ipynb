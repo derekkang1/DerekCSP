{
 "cells": [
  {
   "cell_type": "markdown",
   "metadata": {},
   "source": [
    "---\n",
    "layout: post\n",
    "title: 3.10 popcorn and hw hacks\n",
    "description:  This is a collection of Sprint 2 Hacks.\n",
    "type: issues \n",
    "comments: false\n",
    "permalink: /classteach/3_10\n",
    "---"
   ]
  },
  {
   "cell_type": "markdown",
   "metadata": {},
   "source": [
    "# 3.10 Popcorn hack 1"
   ]
  },
  {
   "cell_type": "code",
   "execution_count": 1,
   "metadata": {},
   "outputs": [
    {
     "name": "stdout",
     "output_type": "stream",
     "text": [
      "['mr brown', 'mr mort', 'mr liao', 'mr ozuna']\n"
     ]
    }
   ],
   "source": [
    "list = [\"mr brown\", \"mr mort\", \"mr liao\"]\n",
    "list.append(\"mr ozuna\")\n",
    "print(list)"
   ]
  },
  {
   "cell_type": "markdown",
   "metadata": {},
   "source": [
    "# 3.10 popcorn hack 2"
   ]
  },
  {
   "cell_type": "code",
   "execution_count": 3,
   "metadata": {},
   "outputs": [
    {
     "name": "stdout",
     "output_type": "stream",
     "text": [
      "['mr brown\", \"mr mort\", \"mr liao']\n"
     ]
    }
   ],
   "source": [
    "list = ['mr brown\", \"mr mort\", \"mr liao']\n",
    "list.insert(2,'mr ozuna')\n",
    "del list[1]\n",
    "print(list)"
   ]
  },
  {
   "cell_type": "markdown",
   "metadata": {},
   "source": [
    "# 3.10 popcorn hack 3"
   ]
  },
  {
   "cell_type": "code",
   "execution_count": 18,
   "metadata": {},
   "outputs": [
    {
     "name": "stdout",
     "output_type": "stream",
     "text": [
      "['mr brown', 'mr ozuna', 'mr liao']\n"
     ]
    }
   ],
   "source": [
    "list = ['mr brown', 'mr mort', 'mr liao']\n",
    "list[1] = 'mr ozuna'\n",
    "print(list)"
   ]
  },
  {
   "cell_type": "markdown",
   "metadata": {},
   "source": [
    "# 3.10 hw hack"
   ]
  },
  {
   "cell_type": "code",
   "execution_count": 19,
   "metadata": {},
   "outputs": [
    {
     "name": "stdout",
     "output_type": "stream",
     "text": [
      "Sum of even numbers: 3864\n",
      "Minimum value: 102\n",
      "Maximum value: 12783\n"
     ]
    }
   ],
   "source": [
    "numbers = [12783, 102, 230, 2325, 3130, 3103, 402]\n",
    "\n",
    "even_sum = sum(num for num in numbers if num % 2 == 0)\n",
    "print(\"Sum of even numbers:\", even_sum)\n",
    "\n",
    "min_value = min(numbers)\n",
    "max_value = max(numbers)\n",
    "\n",
    "print(\"Minimum value:\", min_value)\n",
    "print(\"Maximum value:\", max_value)\n"
   ]
  }
 ],
 "metadata": {
  "kernelspec": {
   "display_name": "Python 3",
   "language": "python",
   "name": "python3"
  },
  "language_info": {
   "codemirror_mode": {
    "name": "ipython",
    "version": 3
   },
   "file_extension": ".py",
   "mimetype": "text/x-python",
   "name": "python",
   "nbconvert_exporter": "python",
   "pygments_lexer": "ipython3",
   "version": "3.10.12"
  },
  "orig_nbformat": 4
 },
 "nbformat": 4,
 "nbformat_minor": 2
}
