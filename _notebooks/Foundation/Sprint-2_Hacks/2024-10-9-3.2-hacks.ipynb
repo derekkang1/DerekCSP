{
 "cells": [
  {
   "cell_type": "markdown",
   "metadata": {},
   "source": [
    "---\n",
    "layout: post\n",
    "title: 3.2 popcorn and hw hacks\n",
    "description:  This is a collection of Sprint 2 Hacks.\n",
    "type: issues \n",
    "comments: false\n",
    "permalink: /classteach/3_2\n",
    "---"
   ]
  },
  {
   "cell_type": "markdown",
   "metadata": {},
   "source": [
    "# Popcorn Hack 1"
   ]
  },
  {
   "cell_type": "code",
   "execution_count": 15,
   "metadata": {},
   "outputs": [
    {
     "name": "stdout",
     "output_type": "stream",
     "text": [
      "['brawl stars', 'Minecraft', 'Among Us', 'Fortnite', 'Fifa Mobile']\n"
     ]
    }
   ],
   "source": [
    "list = [\"brawl stars\", \"Minecraft\", \"Among Us\",\"Fortnite\", \"Fifa Mobile\"]\n",
    "print(list)"
   ]
  },
  {
   "cell_type": "markdown",
   "metadata": {},
   "source": [
    "# Popcorn Hack 2"
   ]
  },
  {
   "cell_type": "code",
   "execution_count": 14,
   "metadata": {},
   "outputs": [
    {
     "name": "stdout",
     "output_type": "stream",
     "text": [
      "Sprint 1:\n",
      " - Frontend Development\n",
      " - GitHub Pages Playground\n",
      " - JavaScript Playground\n",
      "Sprint 2:\n",
      " - 3.1 Variables\n",
      " - 3.2 Data Abstraction\n",
      " - 3.3 Mathematical Expressions\n",
      " - 3.4 Strings\n",
      " - 3.5 Booleans\n",
      " - 3.6 Conditionals\n",
      " - 3.7 Nested Conditionals\n",
      " - 3.8 Iteration\n",
      " - 3.10 Lists\n",
      "Sprint 3:\n",
      " - 3.9 Developing Algorithms\n",
      " - 3.11 Search\n",
      " - 3.12 Calling Procedures\n",
      " - 3.13 Developing Procedures and Procedural Abstraction\n",
      " - 3.14 Libraries\n",
      " - 3.15 Random Values\n",
      " - 3.16 Simulations\n",
      " - 3.17 Algorithmic Efficiency\n",
      " - 3.18 Undecidable Problems\n",
      "False, 3.14 Libraries is not part of Sprint 2\n"
     ]
    }
   ],
   "source": [
    "sprint_contents = {\n",
    "    \"Sprint 1\": [\n",
    "        \"Frontend Development\",\n",
    "        \"GitHub Pages Playground\",\n",
    "        \"JavaScript Playground\"\n",
    "    ],\n",
    "    \"Sprint 2\": [\n",
    "        \"3.1 Variables\",\n",
    "        \"3.2 Data Abstraction\",\n",
    "        \"3.3 Mathematical Expressions\",\n",
    "        \"3.4 Strings\",\n",
    "        \"3.5 Booleans\",\n",
    "        \"3.6 Conditionals\",\n",
    "        \"3.7 Nested Conditionals\",\n",
    "        \"3.8 Iteration\",\n",
    "        \"3.10 Lists\"\n",
    "    ],\n",
    "    \"Sprint 3\": [\n",
    "        \"3.9 Developing Algorithms\",\n",
    "        \"3.11 Search\",\n",
    "        \"3.12 Calling Procedures\",\n",
    "        \"3.13 Developing Procedures and Procedural Abstraction\",\n",
    "        \"3.14 Libraries\",\n",
    "        \"3.15 Random Values\",\n",
    "        \"3.16 Simulations\",\n",
    "        \"3.17 Algorithmic Efficiency\",\n",
    "        \"3.18 Undecidable Problems\"\n",
    "    ]\n",
    "}\n",
    "\n",
    "for sprint, tasks in sprint_contents.items():\n",
    "    print(f\"{sprint}:\")\n",
    "    for task in tasks:\n",
    "        print(f\" - {task}\")\n",
    "\n",
    "if \"3.14 Libraries\" in sprint_contents['Sprint 2']:\n",
    "    print(\"True, 3.14 Libraries is part of Sprint 2\") \n",
    "else:\n",
    "    print(\"False, 3.14 Libraries is not part of Sprint 2\")\n",
    "\n"
   ]
  },
  {
   "cell_type": "markdown",
   "metadata": {},
   "source": [
    "# Hack 3/hw"
   ]
  },
  {
   "cell_type": "code",
   "execution_count": 13,
   "metadata": {},
   "outputs": [
    {
     "name": "stdout",
     "output_type": "stream",
     "text": [
      "AP WORLD HISTORY UNITS YAYY\n",
      "part1:\n",
      "  Unit 1: Global Tapestry (c. 1200 - c. 1450)\n",
      "    Topics: Major civilizations and cultures, Trade and cultural exchange, Religious beliefs and practices\n",
      "  Unit 2: Networks of Exchange (c. 1200 - c. 1450)\n",
      "    Topics: Silk Road and maritime trade, Impact of the Mongol Empire, Technological innovations\n",
      "part2:\n",
      "  Unit 3: Land-Based Empires (c. 1450 - c. 1750)\n",
      "    Topics: Ottoman Empire, Mughal Empire, Safavid Empire\n",
      "  Unit 4: Transoceanic Interconnections (c. 1450 - c. 1750)\n",
      "    Topics: Age of Exploration, Columbian Exchange, European colonization\n",
      "part3:\n",
      "  Unit 5: Revolutions (c. 1750 - c. 1900)\n",
      "    Topics: American Revolution, French Revolution, Industrial Revolution\n",
      "  Unit 6: Consequences of Industrialization (c. 1750 - c. 1900)\n",
      "    Topics: Urbanization, Labor movements, Environmental impact\n"
     ]
    }
   ],
   "source": [
    "ap_world_units = {\n",
    "    \"part1\": {\n",
    "        \"Unit 1\": {\n",
    "            \"title\": \"Global Tapestry (c. 1200 - c. 1450)\",\n",
    "            \"topics\": [\n",
    "                \"Major civilizations and cultures\",\n",
    "                \"Trade and cultural exchange\",\n",
    "                \"Religious beliefs and practices\"\n",
    "            ]\n",
    "        },\n",
    "        \"Unit 2\": {\n",
    "            \"title\": \"Networks of Exchange (c. 1200 - c. 1450)\",\n",
    "            \"topics\": [\n",
    "                \"Silk Road and maritime trade\",\n",
    "                \"Impact of the Mongol Empire\",\n",
    "                \"Technological innovations\"\n",
    "            ]\n",
    "        }\n",
    "    },\n",
    "    \"part2\": {\n",
    "        \"Unit 3\": {\n",
    "            \"title\": \"Land-Based Empires (c. 1450 - c. 1750)\",\n",
    "            \"topics\": [\n",
    "                \"Ottoman Empire\",\n",
    "                \"Mughal Empire\",\n",
    "                \"Safavid Empire\"\n",
    "            ]\n",
    "        },\n",
    "        \"Unit 4\": {\n",
    "            \"title\": \"Transoceanic Interconnections (c. 1450 - c. 1750)\",\n",
    "            \"topics\": [\n",
    "                \"Age of Exploration\",\n",
    "                \"Columbian Exchange\",\n",
    "                \"European colonization\"\n",
    "            ]\n",
    "        }\n",
    "    },\n",
    "    \"part3\": {\n",
    "        \"Unit 5\": {\n",
    "            \"title\": \"Revolutions (c. 1750 - c. 1900)\",\n",
    "            \"topics\": [\n",
    "                \"American Revolution\",\n",
    "                \"French Revolution\",\n",
    "                \"Industrial Revolution\"\n",
    "            ]\n",
    "        },\n",
    "        \"Unit 6\": {\n",
    "            \"title\": \"Consequences of Industrialization (c. 1750 - c. 1900)\",\n",
    "            \"topics\": [\n",
    "                \"Urbanization\",\n",
    "                \"Labor movements\",\n",
    "                \"Environmental impact\"\n",
    "            ]\n",
    "        }\n",
    "    },\n",
    "}\n",
    "print(\"AP WORLD HISTORY UNITS YAYY\")\n",
    "for part, units in ap_world_units.items():\n",
    "    print(f\"{part}:\")\n",
    "    for unit_key, unit_info in units.items():\n",
    "        print(f\"  {unit_key}: {unit_info['title']}\")\n",
    "        print(f\"    Topics: {', '.join(unit_info['topics'])}\")\n"
   ]
  }
 ],
 "metadata": {
  "kernelspec": {
   "display_name": "Python 3",
   "language": "python",
   "name": "python3"
  },
  "language_info": {
   "codemirror_mode": {
    "name": "ipython",
    "version": 3
   },
   "file_extension": ".py",
   "mimetype": "text/x-python",
   "name": "python",
   "nbconvert_exporter": "python",
   "pygments_lexer": "ipython3",
   "version": "3.10.12"
  },
  "orig_nbformat": 4
 },
 "nbformat": 4,
 "nbformat_minor": 2
}
