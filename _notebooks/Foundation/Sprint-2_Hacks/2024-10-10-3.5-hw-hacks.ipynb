{
 "cells": [
  {
   "cell_type": "markdown",
   "metadata": {},
   "source": [
    "---\n",
    "layout: post\n",
    "title: 3.5 popcorn and hw hacks\n",
    "description:  This is a collection of Sprint 2 Hacks.\n",
    "type: issues \n",
    "comments: false\n",
    "permalink: /classteach/3_5\n",
    "---"
   ]
  },
  {
   "cell_type": "markdown",
   "metadata": {},
   "source": [
    "# 3.5 Popcorn hack 1"
   ]
  },
  {
   "cell_type": "code",
   "execution_count": 12,
   "metadata": {},
   "outputs": [
    {
     "name": "stdout",
     "output_type": "stream",
     "text": [
      "At least one boolean is true.\n"
     ]
    }
   ],
   "source": [
    "def check_both_or_either(value1, value2):\n",
    "    if value1 and value2:\n",
    "        return \"Both booleans are true.\"\n",
    "    elif value1 or value2:\n",
    "        return \"At least one boolean is true.\"\n",
    "    else:\n",
    "        return \"Both booleans are false.\"\n",
    "\n",
    "bool1 = True\n",
    "bool2 = False\n",
    "print(check_both_or_either(bool1, bool2))"
   ]
  },
  {
   "cell_type": "markdown",
   "metadata": {},
   "source": [
    "# 3.5 popcorn hack 2"
   ]
  },
  {
   "cell_type": "code",
   "execution_count": 25,
   "metadata": {},
   "outputs": [
    {
     "name": "stdout",
     "output_type": "stream",
     "text": [
      "number is greater than 10\n"
     ]
    }
   ],
   "source": [
    "number=int(input())\n",
    "if number > 10:\n",
    "    print(\"number is greater than 10\")\n",
    "else:\n",
    "    print(\"number is less than 10\")"
   ]
  },
  {
   "cell_type": "markdown",
   "metadata": {},
   "source": [
    "# 3.5 popcorn hack 3"
   ]
  },
  {
   "cell_type": "code",
   "execution_count": 17,
   "metadata": {},
   "outputs": [
    {
     "name": "stdout",
     "output_type": "stream",
     "text": [
      "True\n"
     ]
    }
   ],
   "source": [
    "number=int(input())\n",
    "def is_three_digits(num):\n",
    "    return 100 <= num <= 999\n",
    "print(is_three_digits(number))\n"
   ]
  },
  {
   "cell_type": "markdown",
   "metadata": {},
   "source": [
    "# 3.5 hw hack"
   ]
  },
  {
   "cell_type": "code",
   "execution_count": 24,
   "metadata": {},
   "outputs": [
    {
     "name": "stdout",
     "output_type": "stream",
     "text": [
      "A     B     A AND B     A OR B     NOT A     NOT B\n",
      "-----------------------------------------------------\n",
      "True  True    True      True       False     False\n",
      "True  False    False      True       False     True\n",
      "False  True    False      True       True     False\n",
      "False  False    False      False       True     True\n"
     ]
    }
   ],
   "source": [
    "def truth_table():\n",
    "    print(\"A     B     A AND B     A OR B     NOT A     NOT B\")\n",
    "    print(\"-----------------------------------------------------\")\n",
    "    for A in [True, False]:\n",
    "        for B in [True, False]:\n",
    "            and_result = A and B\n",
    "            or_result = A or B\n",
    "            not_A = not A\n",
    "            not_B = not B\n",
    "            print(f\"{A}  {B}    {and_result}      {or_result}       {not_A}     {not_B}\")\n",
    "truth_table()"
   ]
  }
 ],
 "metadata": {
  "kernelspec": {
   "display_name": "Python 3",
   "language": "python",
   "name": "python3"
  },
  "language_info": {
   "codemirror_mode": {
    "name": "ipython",
    "version": 3
   },
   "file_extension": ".py",
   "mimetype": "text/x-python",
   "name": "python",
   "nbconvert_exporter": "python",
   "pygments_lexer": "ipython3",
   "version": "3.10.12"
  },
  "orig_nbformat": 4
 },
 "nbformat": 4,
 "nbformat_minor": 2
}
