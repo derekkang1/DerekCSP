{
 "cells": [
  {
   "cell_type": "markdown",
   "metadata": {},
   "source": [
    "---\n",
    "layout: post\n",
    "title: 3.8 popcorn and hw hacks\n",
    "description:  This is a collection of Sprint 2 Hacks.\n",
    "type: issues \n",
    "comments: false\n",
    "permalink: /classteach/3_8\n",
    "---"
   ]
  },
  {
   "cell_type": "markdown",
   "metadata": {},
   "source": [
    "# 3.8 Popcorn hack 1"
   ]
  },
  {
   "cell_type": "code",
   "execution_count": 1,
   "metadata": {},
   "outputs": [
    {
     "name": "stdout",
     "output_type": "stream",
     "text": [
      "The ticket price is: $8.00\n"
     ]
    }
   ],
   "source": [
    "age = int(input(\"Enter your age: \"))\n",
    "student_status = input(\"Are you a student? (yes or no): \")\n",
    "base_ticket = 10\n",
    "\n",
    "def calculate_ticket_price(age, is_student):\n",
    "    if age <= 12:\n",
    "        price = base_ticket*0.5\n",
    "    elif age <= 65:\n",
    "        price = base_ticket\n",
    "    else:\n",
    "        price = base_ticket*0.7\n",
    "\n",
    "    if is_student:\n",
    "        price *= 0.8\n",
    "    return price\n",
    "\n",
    "is_student = student_status == \"yes\"\n",
    "\n",
    "ticket_price = calculate_ticket_price(age, is_student)\n",
    "print(f\"The ticket price is: ${ticket_price:.2f}\")"
   ]
  },
  {
   "cell_type": "markdown",
   "metadata": {},
   "source": [
    "# 3.8 popcorn hack 2"
   ]
  },
  {
   "cell_type": "code",
   "execution_count": 8,
   "metadata": {},
   "outputs": [
    {
     "name": "stdout",
     "output_type": "stream",
     "text": [
      "You can't divide by zero!\n"
     ]
    }
   ],
   "source": [
    "try:\n",
    "    num = int(input(\"Enter a number: \"))  # Code that might raise an exception\n",
    "    result = 10 / num  # Could raise ZeroDivisionError if num is 0\n",
    "    print(\"Result:\", result)\n",
    "except ValueError:\n",
    "    print(\"That's not a valid number!\")\n",
    "except ZeroDivisionError:\n",
    "    print(\"You can't divide by zero!\")\n",
    "else:\n",
    "    print(\"Operation was successful!\")\n",
    "    if (result % 2) == 0:\n",
    "        print(\"The number is even\") \n",
    "    else: \n",
    "        print(\"The provided number is odd\")\n"
   ]
  },
  {
   "cell_type": "markdown",
   "metadata": {},
   "source": [
    "# 3.8 HW hack"
   ]
  },
  {
   "cell_type": "code",
   "execution_count": 11,
   "metadata": {},
   "outputs": [
    {
     "name": "stdout",
     "output_type": "stream",
     "text": [
      "Try again! Please enter a positive number.\n",
      "Try again! Please enter a positive number.\n",
      "Try again! Please enter a positive number.\n",
      "Try again! Please enter a positive number.\n",
      "Try again! Please enter a positive number.\n",
      "Try again! Please enter a positive number.\n",
      "That's not a valid number!\n",
      "That's not a valid number!\n",
      "That's not a valid number!\n",
      "That's not a valid number!\n",
      "That's not a valid number!\n",
      "That's not a valid number!\n",
      "Success! You entered: 8\n"
     ]
    }
   ],
   "source": [
    "while True:\n",
    "    try:\n",
    "        num = int(input(\"Enter a number: \"))\n",
    "        if num > 0:\n",
    "            print(f\"Success! You entered: {num}\")\n",
    "            break\n",
    "        else:\n",
    "            print(\"Try again! Please enter a positive number.\")\n",
    "    except ValueError:\n",
    "        print(\"That's not a valid number!\")"
   ]
  }
 ],
 "metadata": {
  "kernelspec": {
   "display_name": "Python 3",
   "language": "python",
   "name": "python3"
  },
  "language_info": {
   "codemirror_mode": {
    "name": "ipython",
    "version": 3
   },
   "file_extension": ".py",
   "mimetype": "text/x-python",
   "name": "python",
   "nbconvert_exporter": "python",
   "pygments_lexer": "ipython3",
   "version": "3.10.12"
  },
  "orig_nbformat": 4
 },
 "nbformat": 4,
 "nbformat_minor": 2
}
