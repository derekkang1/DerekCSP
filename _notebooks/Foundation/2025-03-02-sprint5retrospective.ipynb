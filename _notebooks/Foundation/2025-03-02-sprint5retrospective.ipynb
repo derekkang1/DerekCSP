{
 "cells": [
  {
   "cell_type": "raw",
   "metadata": {
    "vscode": {
     "languageId": "raw"
    }
   },
   "source": [
    "---\n",
    "layout: post\n",
    "title: Sprint 5 Retrospective Reflection\n",
    "---"
   ]
  },
  {
   "cell_type": "markdown",
   "metadata": {},
   "source": [
    "## Self Grading: "
   ]
  },
  {
   "cell_type": "markdown",
   "metadata": {},
   "source": [
    "| **Title**                               | **Points** | **Reasoning**                                                                                           |\n",
    "|-----------------------------------------|------------|--------------------------------------------------------------------------------------------------------|\n",
    "| **5 Things You Did Over 12 Weeks**      | 4.55/5     | I made meaningful contributions to my team and fulfilled my role as backend engineer, made meaningful features with pupose, showed organizaiton and preparedness through issues, burndown. |\n",
    "| **Full Stack Project Demo**             | 1.8/2      | Demonstrates the final working project with all CRUD methods and includes CPT requirement highlights.   |\n",
    "| **Project Feature Blog Write Up**       | 0.9/1      | Detailed explanation of a key feature using CPT/FRQ language. I went beyond to include thorough documentation for Big Ideas 1, 2, and 4 and connected them to my feature. |\n",
    "| **MCQ**                                 | 0.9/1      | Completion of the MCQ in reasonable time, earned an good score of 61/67, along with thoughtful reflection and corrections. |\n",
    "| **Retrospective & Reflection** (10th point)         | 0.85/1     | I sent Mr. Mort a summary on slack ahead of time and did a review with another CSP student. I reflected on strengths, weaknesses, and future plans but could provide more detail on next steps and long-term goals. |\n",
    "| **Overall Score**                       | 9.0/10     | I addressed all required aspects and a bit more, but there is room for improvement in maintaining consistency and better presentation skills, as well as taking more extreme interests in other people's projects. |"
   ]
  },
  {
   "cell_type": "markdown",
   "metadata": {},
   "source": [
    "<img src=\"{{site.baseurl}}/images/tri2final/remainingbudget.png\" height=\"525px\">\n",
    "\n",
    "I did an online review with another student in CSP form another group, who I helped provided feedback on strengthening his MC blog reflection. He told me to try and provide les sinformation, since I was going over time, which I have tried to incorperate."
   ]
  },
  {
   "cell_type": "markdown",
   "metadata": {},
   "source": [
    "### Strengths\n",
    "\n",
    " - Teamwork and Collaboration with Scrum Team, as well as other CSP Students\n",
    "\n",
    " - Hard Work and suffcient preperation to complete features, only stopped when I considered it \"done\"\n",
    " \n",
    " - Project Management & Organization\n",
    "\n",
    " - Improvement in Problem-Solving & Debugging"
   ]
  },
  {
   "cell_type": "markdown",
   "metadata": {},
   "source": [
    "### Weaknesses\n",
    "\n",
    "- Overplanning\n",
    "\n",
    "- Working last minute(less time for testing)\n",
    "\n",
    "- Trying to cram too much information (ex. 1st CPT Video)"
   ]
  },
  {
   "cell_type": "markdown",
   "metadata": {},
   "source": [
    "## Project Reflection:\n",
    "\n",
    "- Overall, considered a success, with functional webpage, looking \"complete\" as a presentable project\n",
    "\n",
    "- Several functional features that have real-world application\n",
    "\n",
    "- Met purpose and well-recived by potential users and others, 4.5/5 average rating, \n",
    "\n",
    "- CRUD methods used by all features\n",
    "\n",
    "- Deployed webpage and backend server\n",
    "\n",
    "- Me and my teamamtes learned a lot about full stack, me particularlly regarding backend servers and database usage\n",
    "\n",
    "\n",
    "## The Future of Intertravel and Budget Brilliance\n",
    "\n",
    " - Expand the travel planner to cities beyond Paris\n",
    "\n",
    " - Cross-feature trip planner, associated with each user\n",
    "\n",
    " - Adding total budget value as part of user API, so users can log in and atomatically have a ottal budget associated with them\n",
    "\n",
    " - Adding Pie Chart or graph to show budegt distribution by category\n",
    "\n",
    " - Make use of AI, and track personal interests to make the site more personalized"
   ]
  },
  {
   "cell_type": "markdown",
   "metadata": {},
   "source": [
    "## Future Plans\n",
    " - Continue working on InterTravel or other projects, which were fun\n",
    "\n",
    " - Look to improve on my weaknesses in Tri 3\n",
    "\n",
    " - Apply Agile and Scrum Methodology in future interships or colleges, as well as other team projects in and out of school\n",
    " \n",
    " - Apply what I learned in CSP and follow my for Robotics programming"
   ]
  }
 ],
 "metadata": {
  "language_info": {
   "name": "python"
  }
 },
 "nbformat": 4,
 "nbformat_minor": 2
}
