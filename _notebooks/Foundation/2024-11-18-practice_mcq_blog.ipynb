{
 "cells": [
  {
   "cell_type": "raw",
   "metadata": {
    "vscode": {
     "languageId": "raw"
    }
   },
   "source": [
    "---\n",
    "layout: post\n",
    "title: Collegeboard 2018 MC Reflection Blog \n",
    "description: This is a blog for Collegeboard 2018 MC \n",
    "type: issues \n",
    "comments: true\n",
    "---"
   ]
  },
  {
   "cell_type": "markdown",
   "metadata": {},
   "source": [
    "## What I learned:\n",
    "I took the Collegeboard 2018 MC Reflection and got 58/66.\n",
    "pic\n",
    "\n",
    "### Here's what I missed:"
   ]
  },
  {
   "cell_type": "markdown",
   "metadata": {},
   "source": [
    "### Q1\n",
    "pic\n",
    "I picked option D since I thought that showed the second variable eing allocated the value of the temp variable, but that is not the correct notation for that, and the correct notaion should be Option B."
   ]
  },
  {
   "cell_type": "markdown",
   "metadata": {},
   "source": [
    "### Q17\n",
    "pic\n",
    "I picked option II and III, but hte correct answer should have been I, II, and III which I made an oversight inthe fact that providing computer education to lower-income area would also help reduce the digital divide."
   ]
  },
  {
   "cell_type": "markdown",
   "metadata": {},
   "source": [
    "### Q30\n",
    "pic\n",
    "I picked option C which was 4 hours but the correct optoiin was D, 5 hours. I forgot to account for the analysis procedure for \"science fiction\" in the first line."
   ]
  },
  {
   "cell_type": "markdown",
   "metadata": {},
   "source": [
    "### Q32\n",
    "pic\n",
    "I picked Option B by the correct option was A. I mistaked the X's for those who were not interested in the application somy answer was reversed."
   ]
  },
  {
   "cell_type": "markdown",
   "metadata": {},
   "source": [
    "### Q34\n",
    "pic\n",
    "I picked option B but the correct option was D. THe numMice function is updated every cycle, everyday, but the numPredators is never called again after it is set to the inital amount which makes D the right choice."
   ]
  },
  {
   "cell_type": "markdown",
   "metadata": {},
   "source": [
    "### Q43\n",
    "pic\n",
    "I picked option B since the number of step is equal to the number of items squared, that was an unreasonable time for very high number of items, but it seems that polynomial functions are still able to run in reasonable amounts of time so option A was right."
   ]
  },
  {
   "cell_type": "markdown",
   "metadata": {},
   "source": [
    "### Q58\n",
    "pic\n",
    "I picked I, II, and III, but the right option was I and II only. The third statement is wrrong since not all computational problems can be solved in reasonable time even with crowdsourcing."
   ]
  },
  {
   "cell_type": "markdown",
   "metadata": {},
   "source": [
    "### Q60\n",
    "pic\n",
    "I picked options A and B, but the right choice was A and D. D was correct since creating a list of names makes the code less complex compared to multiple seperate variables for names. B was wrong since reducing variable charaacter length does not simplify the program."
   ]
  },
  {
   "cell_type": "markdown",
   "metadata": {},
   "source": [
    "## Overall Takeaways\n",
    "- I learned that cyptography and citizen science as well as the danger of computers were major topics on the CSP MCQ that I did not know before. I will make sure to study these particular topics before the AP exam as I am not very familiar with them at the moment. I will also be sure to make sure to read the prompt or question fully before answering to ensure I odn't make silly mistakes."
   ]
  }
 ],
 "metadata": {
  "language_info": {
   "name": "python"
  }
 },
 "nbformat": 4,
 "nbformat_minor": 2
}
