{
 "cells": [
  {
   "cell_type": "raw",
   "metadata": {
    "vscode": {
     "languageId": "raw"
    }
   },
   "source": [
    "---\n",
    "layout: post\n",
    "title: Sprint 2 - Blog \n",
    "description: This is a blog for Sprint 2\n",
    "type: issues \n",
    "comments: true\n",
    "---"
   ]
  },
  {
   "cell_type": "markdown",
   "metadata": {},
   "source": [
    "## [Link to Issue](https://github.com/derekkang1/DerekCSP/issues/5) "
   ]
  },
  {
   "cell_type": "markdown",
   "metadata": {},
   "source": [
    "## Sprint 2 Team Teach Personal Issue\n",
    "- Derek Kang Brown Period 1 Group 6 Topics 3.1 3.4\n",
    "\n",
    "## What I learned:\n",
    "3.1 Variables\n",
    "- Variables and variable manipulation along with real-life examples of how manipulating variables can be used. I learned that variables are not just placeholders but entities that can store data and change over time. I manipulated variables to reflect user inputs and automatically update values.\n",
    "\n",
    "3.2 Data Abstraction\n",
    "- Data abstraction taught me the power of simplifying complex systems. By focusing on essential features while hiding unnecessary details, I was able to create user-friendly interface.\n",
    "\n",
    "3.3 Mathematical Expressions\n",
    "- discovered the importance of the order of operations and learned how to create complex mathematical operations.\n",
    "3.4 Strings\n",
    "- learned many uses of text manipulation. By slicing and concatenating strings, I created engaging interactions, highlighting the significance of strings in enhancing user experience.\n",
    "\n",
    "3.5 Booleans\n",
    "- Booleans introduced me to the concept of true/false logic in programming. I also learned about while true loops etc.\n",
    "\n",
    "3.6 Conditionals\n",
    "- I learned about if-statements and how i could make something that responded differently based on user inputs. This flexibility made my programs more interactive and responsive.\n",
    "\n",
    "3.7 Nested Conditionals\n",
    "- learned to handle more complex decision trees.  how multiple layers of conditions can create code with more functions\n",
    "\n",
    "3.8 Iteration\n",
    "- Iteration became a key tool in my programming toolkit. I developed a data analysis app that processed student grades using loops, which illustrated how iteration streamlines repetitive tasks. This experience highlighted the efficiency that iteration brings to coding.\n",
    "\n",
    "3.10 Lists\n",
    "- lists taught me how to organize and manage collections of data effectively. I built an inventory system that utilized lists to track items and quantities, showing me how lists can simplify data management \n",
    "\n",
    "\n",
    "### This is why I know my units\n",
    "I understand my units because I worked hard on creating lessons to teach for 3.1 and 3.4, along with paying attention and doing all assignments for the other subsections. I know that each unit—whether it’s a variable, data type, or data structure—plays a crucial role in how I approach coding challenges. I did a lot of hands-on work to make sure I completely understood all of the topics.\n",
    "\n",
    "### This is how I build a summary in my blog that shows how I know or how I will review\n",
    "When I write summaries in my blog, I focus on condensing info into short and concise statements. I often start by highlighting the key concepts I’ve explored, followed by practical applications I’ve implemented. I will make sure to review all of the hacks I have completed so far to ensure I know what I am talking about and have it fresh on my mind.\n",
    "\n",
    "### This is how you know I am more than perfunctory on my learning journey\n",
    "I am committed to this class because I don’t just memorize the syntax or concepts. I try to grasp their use cases and applications in order to see if I can apply my knowledge to new areas and enable active recall instead of just rereading. If I am confused at all, I make sure to ask those around me to help me understand, showing teamwork and tech talk.\n",
    "\n",
    "### Here are some memories from my homework, learning, and teaching\n",
    "One memorable homework assignment involved creating a password validator. I was really surprised that a password validator only used string manipulation tools that were taught in the 10-minute lesson and I needed no additional information to create it. I had thought that creating a password validator was extremely complex, but no it wasn't at all. I also added my own sections, using my knowledge of string manipulation. This was especially cool since it was a real application of code I worked on that I can see every day whenever I have to sign up for any application or program.\n",
    "\n",
    "### This is how you know my work is distinctive, unique, and genuine\n",
    "My work is unique because I don't just copy and paste the solutions from certain hacks that other people assign, I actually take the time to figure out how to do them myself. If you look at my notebooks for my completed assignments, you can see that much of the code differs from what the original student teachers posted. I also matched many of the customizable variables and features on the blog to interests unique to myself, showing distinctiveness from others."
   ]
  },
  {
   "cell_type": "markdown",
   "metadata": {},
   "source": []
  },
  {
   "cell_type": "markdown",
   "metadata": {},
   "source": [
    "## Grading\n",
    "\n",
    "| **Assignment**             | **Points**    | **Grade** | **Evidence** |\n",
    "|----------------------------|---------------|-----------|--------------|\n",
    "| Baseline Grade             | 55%           |           |              |\n",
    "| Max Grade                  | 90%           |           |              |\n",
    "| Pull Request (Integration) | 1             |           |              |\n",
    "| Relevancy Checklist (Peer) | 2             |           |              |\n",
    "| Lesson Style (Period)      | 1             |           |              |\n",
    "| Homework, Popcorn Hacks    | 1 x 5         |           |              |\n",
    "| Individual Contribution    | 1             |           |              |\n",
    "| Personal Notebooks / Blogs | 1             |           |              |\n",
    "| Total                      | 11            |           |              |\n",
    "\n",
    "\n",
    "| **Skill**                  | **Points**    | **Grade** | **Evidence** |\n",
    "|----------------------------|---------------|-----------|--------------|\n",
    "| Work Habits (Analytics)    |   1           |           |              |\n",
    "| Team Planning (Issue)      |   1           |           |              |\n",
    "| Presentation Memories      |   1           |           |              |\n",
    "| Grading and Feedback       |   1           |           |              |\n",
    "| Beyond Perfunctory         |   1           |           |              | \n",
    "\n",
    "\n",
    " | **Assignment**          | **Weightage** | **Grade** | **Comments** |\n",
    "|-------------------------|---------------|-----------|--------------|\n",
    "| College Board Coverage  | 20            | TBD       | TBD          |\n",
    "| Python Examples         | 15            | TBD       | TBD          |\n",
    "| JavaScript Examples     | 15            | TBD       | TBD          |\n",
    "| Popcorn Hack Usage      | 10            | TBD       | TBD          |\n",
    "| Homework                | 10            | TBD       | TBD          |\n",
    "| Grading Plan            | 10            | TBD       | TBD          |\n",
    "| Original an Creative    | 10            | TBD       | TBD          |\n",
    "| **Total**               | **90**        |           |              |"
   ]
  }
 ],
 "metadata": {
  "language_info": {
   "name": "python"
  }
 },
 "nbformat": 4,
 "nbformat_minor": 2
}
