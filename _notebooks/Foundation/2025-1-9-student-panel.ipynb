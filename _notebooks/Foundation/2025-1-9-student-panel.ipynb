{
 "cells": [
  {
   "cell_type": "raw",
   "metadata": {
    "vscode": {
     "languageId": "raw"
    }
   },
   "source": [
    "---\n",
    "layout: post\n",
    "title: Student Panel Reflection Blog \n",
    "description: This is a blog for student panel\n",
    "type: issues \n",
    "comments: true\n",
    "---"
   ]
  },
  {
   "cell_type": "markdown",
   "metadata": {},
   "source": [
    "### I went to the Student Panel on Tuesday during office hours with Nathan and Aadit"
   ]
  },
  {
   "cell_type": "markdown",
   "metadata": {},
   "source": [
    "## Key Takeaways from both Nathan and Aadit:\n",
    "- Communication is key to expressing yourself to others\n",
    "- For projects, start small and you can build up from there, if stuck, try to search for problems in your life that can be relatable and easy to process for yourself. \n",
    "- CS mort class helps you bring out your creative sides, be able to go above and take risks that you can't in a normal class. \n",
    "- Time Management is crutial by breaking down tasks and setting small, achievable goals can help you stay on track and reduce stress.\n",
    "- Taking away scrum and agile metholdology can be helpful later in the workforce        \n",
    "- Build a portfolio using tools like GitBooks to show off your projects when applying for internships or jobs\n",
    "- Portfolios, websites, and showcasing your work make a big difference in interviews\n",
    "- Coding is a must-have skill for many many jobs in the workforce\n",
    "- Try not to stress too much in high school, focus on yourself and have fun\n",
    "- embrace failures as learning oppurtunites\n",
    "- set small goals as well as big goals for building growth"
   ]
  },
  {
   "cell_type": "markdown",
   "metadata": {},
   "source": [
    "<img src=\"{{site.baseurl}}/images/IMG_9666.png\"/>"
   ]
  },
  {
   "cell_type": "markdown",
   "metadata": {},
   "source": [
    "## What I will improve on in the future\n",
    "1. **Make a clear plan for ever project** For every project in this class and for even more after I graduate, I'll make sure to use issues, flowcharts, and design tools to plan out my project steps and make sure I know exactly what and how I can accomplish my goals. Tools like draw.io ir figma will help me organize my ideas visually. For example, before starting a big coding project, I’ll map out how the program will work step by step. I can also use this method to plan my goals, like choosing a college or preparing for an internship in hte future\n",
    "\n",
    "2. **Focus on improvin gmy public spekaing and presenation skills** By enhancing my public speaking and presentation skills to confidently communicate ideas in professional settings, I will be able to effectively influence and engage audiences, build credibility, and create stronger connections with colleagues, or whoever I am talking to. This will allow me to present complex ideas with clarity, potentially achiving internships or other jobs in the future.\n",
    "\n",
    "3. **Work on improving my time management** Strategies by utilizing productivity tools and techniques more efficiently will help me stop procrastinnating and improve my work ethic efficiency. I will be able to prioritize tasks with greater precision, minimize distractions, which will allow me to accomplish more in less time, reduce procrastination, and maintain a consistent pace toward achieving both short-term and long-term goals\n",
    "\n",
    "4. **Be more creative** In Mr Mort's class, I can use it as a creative outlet and work on my passions. I’ll focus on projects and clubs that align with what I love, like robotics or coding challenges. This will help me stay motivated and learn skills that I actually enjoy using. In CSP, I want to work on creative coding projects, like building interactive games or apps.\n",
    "\n",
    "5. **Practice Self-Reflection and improve on mistakes** By practicing self-reflection, I will develop a deeper awareness of my strengths, weaknesses, and areas of growth. I shouldn't be afraid of making mistakes, and when I do make them, i will take them as an oppurtunity to learn form them and growth myself. By reflecting on myself regularly throughout my learning journies, I can recognize patterns in my productivity, and I can make intentional adjustments to my learning strategies and set more realistic goals."
   ]
  }
 ],
 "metadata": {
  "language_info": {
   "name": "python"
  }
 },
 "nbformat": 4,
 "nbformat_minor": 2
}
