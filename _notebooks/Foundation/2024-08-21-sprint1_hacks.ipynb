{
 "cells": [
  {
   "cell_type": "raw",
   "metadata": {
    "vscode": {
     "languageId": "raw"
    }
   },
   "source": [
    "---\n",
    "layout: post\n",
    "title: Hacks- Sprint 1\n",
    "description:  This is a collection of Sprint 1 Hacks.\n",
    "type: issues \n",
    "comments: false\n",
    "permalink: /sprint1hacks\n",
    "---"
   ]
  },
  {
   "cell_type": "code",
   "execution_count": 1,
   "metadata": {},
   "outputs": [
    {
     "name": "stdout",
     "output_type": "stream",
     "text": [
      "Python is awesome! 👍 😃\n"
     ]
    }
   ],
   "source": [
    "from emoji import emojize\n",
    "\n",
    "print(emojize(\"Python is awesome! :thumbs_up: :grinning_face_with_big_eyes:\"))"
   ]
  }
 ],
 "metadata": {
  "kernelspec": {
   "display_name": "Python 3",
   "language": "python",
   "name": "python3"
  },
  "language_info": {
   "codemirror_mode": {
    "name": "ipython",
    "version": 3
   },
   "file_extension": ".py",
   "mimetype": "text/x-python",
   "name": "python",
   "nbconvert_exporter": "python",
   "pygments_lexer": "ipython3",
   "version": "3.10.12"
  }
 },
 "nbformat": 4,
 "nbformat_minor": 2
}
