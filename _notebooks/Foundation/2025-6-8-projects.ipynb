{
 "cells": [
  {
   "cell_type": "raw",
   "metadata": {
    "vscode": {
     "languageId": "raw"
    }
   },
   "source": [
    "---\n",
    "layout: post\n",
    "title: Project Overview and Unique Contributions\n",
    "type: issues \n",
    "comments: true\n",
    "---"
   ]
  },
  {
   "cell_type": "markdown",
   "metadata": {},
   "source": [
    "# Open Coding Society – Github Analytics & Grade Predictor\n",
    "\n",
    "We expanded the existing OCS dashboard into a richer, more interactive analytics hub backed by secure, JWT-protected APIs and a lightweight “smart” grade model.\n",
    "\n",
    "## Purpose\n",
    "- Existing GitHub analytics were sometimes inaccurate, hard to navigate, and couldn’t drill down into specific contributions.  \n",
    "- Grade estimates were fixed, ignoring the breadth of a student’s work.\n",
    "\n",
    "## What’s New\n",
    "\n",
    "### Interactive Dashboard\n",
    "- Tabbed sections for:\n",
    "  - **GitHub Analytics**\n",
    "  - **Smart Grade Predictor**\n",
    "  - **Admin Search Pane**\n",
    "  - **Help**\n",
    "- Clickable **commit cards** linking directly to the GitHub commit\n",
    "- **Admin tools** to look up users by UID\n",
    "- Grade Predictor tool based on commits or holeistic view\n",
    "\n",
    "### API Enhancements (`/api/analytics`)\n",
    "- All endpoints are **JWT-secured**\n",
    "- Powered by the `GitHubUser` class using the **GitHub GraphQL API**\n",
    "- Supports optional **date ranges**, defaulting to trimester 3\n",
    "- User Endpoints:\n",
    "  - `GET /github/user`\n",
    "  - `GET /github/user/commits`\n",
    "  - `GET /github/user/prs`\n",
    "  - `GET /github/user/issues`\n",
    "  - `GET /github/user/issue_comments`\n",
    "  - `GET /github/user/received_issue_comments`\n",
    "- Admin Endpoints:\n",
    "  - `GET /commits/<uid>`\n",
    "  - `GET /issues/<uid>`\n",
    "\n",
    "## Smart Grade Predictor\n",
    "- Two modes:\n",
    "  - **Basic** – Based on commit count\n",
    "  - **Smart** – Weighted GitHub activity metrics\n",
    "\n",
    "## Outcome\n",
    "Students and instructors now get clearer, drill-down insight into coding activity and a dynamic grade estimate grounded in holistic GitHub metrics — all while maintaining secure access controls.\n"
   ]
  },
  {
   "cell_type": "markdown",
   "metadata": {},
   "source": [
    "## Popcorn Hack #2 "
   ]
  },
  {
   "cell_type": "code",
   "execution_count": 1,
   "metadata": {},
   "outputs": [
    {
     "name": "stdout",
     "output_type": "stream",
     "text": [
      "Rayhaan will be monitoring decorations!\n",
      "Gyutae will be monitoring food!\n",
      "Derek will be monitoring movies!\n"
     ]
    }
   ],
   "source": [
    "import random\n",
    "# Step 1: Define the list of hosts and activities\n",
    "hosts = ['Rayhaan','Gyutae','Derek']\n",
    "activities = ['music', 'food', 'decorations', 'games', 'movies']\n",
    "# Step 2: Randomly shuffle the list of activities\n",
    "random.shuffle(activities)\n",
    "# Step 3: Loop through each host and assign them a random activity\n",
    "for i in range(len(hosts)):\n",
    "    print(f\"{hosts[i]} will be monitoring {activities[i]}!\")"
   ]
  },
  {
   "cell_type": "markdown",
   "metadata": {},
   "source": [
    "## MCQ #1\n",
    "<img src=\"{{site.baseurl}}/images/image man.png\"/>\n",
    "\n",
    "\n",
    "The answer is C, becausbe the number 3 can't be selected during the first loop. Since i is initially 2, the random selection will only chooe between 1 and 2 during that first iteration."
   ]
  },
  {
   "cell_type": "markdown",
   "metadata": {},
   "source": [
    "## MCQ #2\n",
    "\n",
    "D: RANDOM, open parenthesis 1 comma 100, close parenthesis, is less than or equal to 75\n",
    "THis is the right answer since it ensures the experiment is successful when RANDOM(1, 100) generates a result between 1 and 75, which happens 75% of the time since it is truley random, making the algorithm work properly."
   ]
  },
  {
   "cell_type": "markdown",
   "metadata": {},
   "source": [
    "# Simulation Games\n",
    "\n",
    "## Popcorn Hack #1"
   ]
  },
  {
   "cell_type": "code",
   "execution_count": 14,
   "metadata": {},
   "outputs": [
    {
     "name": "stdout",
     "output_type": "stream",
     "text": [
      "Spinner landed on: 1949337260878\n"
     ]
    }
   ],
   "source": [
    "import random\n",
    "\n",
    "def spin_number():\n",
    "    return random.randint(1, 2010823707124)\n",
    "\n",
    "spinner_result = spin_number()\n",
    "print(\"Spinner landed on:\", spinner_result)\n"
   ]
  },
  {
   "cell_type": "markdown",
   "metadata": {},
   "source": [
    "## Popcorn Hack #2"
   ]
  },
  {
   "cell_type": "code",
   "execution_count": 5,
   "metadata": {},
   "outputs": [
    {
     "name": "stdout",
     "output_type": "stream",
     "text": [
      "Computer chose: paper\n",
      "You chose: rock\n",
      "You lose!\n"
     ]
    }
   ],
   "source": [
    "import random\n",
    "\n",
    "def play_rock_paper_scissors():\n",
    "    choices = ['rock', 'paper', 'scissors']\n",
    "    computer_choice = random.choice(choices)\n",
    "    user_choice = input(\"Enter your choice (rock, paper, or scissors): \")\n",
    "\n",
    "    if user_choice not in choices:\n",
    "        print(\"Invalid choice. Please try again.\")\n",
    "        return\n",
    "\n",
    "    print(\"Computer chose:\", computer_choice)\n",
    "    print(\"You chose:\", user_choice)\n",
    "\n",
    "    if user_choice == computer_choice:\n",
    "        print(\"It's a tie!\")\n",
    "    elif (user_choice == 'rock' and computer_choice == 'scissors') or (user_choice == 'paper' and computer_choice == 'rock') or (user_choice == 'scissors' and computer_choice == 'paper'):\n",
    "        print(\"You win!\")\n",
    "    else:\n",
    "        print(\"You lose!\")\n",
    "\n",
    "play_rock_paper_scissors()"
   ]
  },
  {
   "cell_type": "markdown",
   "metadata": {},
   "source": [
    "I lost the first one, won the seoncd one, and lost the third one."
   ]
  },
  {
   "cell_type": "markdown",
   "metadata": {},
   "source": [
    "## MCQ #3\n",
    "\n",
    "C: Removing as many details from the model as possible so that calculations can be performed quickly\n",
    "\n",
    "removing details may run the program faster and more efficiently, but that doenst improve the accuracy of the model at all, and may even decrease the accurcy. Having less infomation to go off of would make the simulation less accurate. The other options are correct since they either gather more infomation or make the model and simulation more accurate to reflect that dat and infomaiton."
   ]
  },
  {
   "cell_type": "markdown",
   "metadata": {},
   "source": [
    "## MCQ #4\n",
    "\n",
    "D: The number of predators does not change from day to day.\n",
    "\n",
    "This is correct since we can see that numPredators ← InitialPredatorPopulation() is the only time when the numPredators variable is defined, and it is never updated from there on, meaning it does not change from day to day."
   ]
  },
  {
   "cell_type": "markdown",
   "metadata": {},
   "source": [
    "## Homework Hack #1"
   ]
  },
  {
   "cell_type": "code",
   "execution_count": 26,
   "metadata": {},
   "outputs": [
    {
     "name": "stdout",
     "output_type": "stream",
     "text": [
      "\n",
      "Team El Primo:\n",
      " - jesus\n",
      " - lil tecca\n",
      " - martin luther king\n",
      " - Obama\n",
      " - gengis khan\n",
      "\n",
      "Team Hank:\n",
      " - Drake\n",
      " - mr mort\n",
      " - Osama\n",
      " - Antony\n",
      " - marcus rashford\n",
      "\n",
      "Team bombardino crocodilo:\n",
      " - el primo\n",
      " - Onana\n",
      " - geroge floyd\n",
      " - mao zedong\n",
      " - Kanye\n"
     ]
    }
   ],
   "source": [
    "import random\n",
    "\n",
    "students = [\n",
    "    'mao zedong', 'gengis khan', 'geroge floyd', 'el primo', 'jesus', 'Onana', 'Obama', 'lil tecca', \n",
    "    'Drake', 'martin luther king', 'mr mort', 'marcus rashford', 'Antony', 'Osama', 'Kanye'\n",
    "]\n",
    "\n",
    "teams = ['Team El Primo', 'Team Hank', 'Team bombardino crocodilo']\n",
    "\n",
    "team_assignments = {team: [] for team in teams}\n",
    "random.shuffle(students)\n",
    "\n",
    "for index, student in enumerate(students):\n",
    "    team = teams[index % len(teams)]\n",
    "    team_assignments[team].append(student)\n",
    "\n",
    "for team, members in team_assignments.items():\n",
    "    print(f\"\\n{team}:\")\n",
    "    for member in members:\n",
    "        print(f\" - {member}\")"
   ]
  },
  {
   "cell_type": "markdown",
   "metadata": {},
   "source": [
    "## Homework Hack #2"
   ]
  },
  {
   "cell_type": "code",
   "execution_count": 16,
   "metadata": {},
   "outputs": [
    {
     "name": "stdout",
     "output_type": "stream",
     "text": [
      "7-Day Weather Forecast:\n",
      "Day 1: Sunny\n",
      "Day 2: Rainy\n",
      "Day 3: Sunny\n",
      "Day 4: Sunny\n",
      "Day 5: Cloudy\n",
      "Day 6: Sunny\n",
      "Day 7: Sunny\n"
     ]
    }
   ],
   "source": [
    "import random\n",
    "\n",
    "# List of possible weather types\n",
    "weather_types = ['Sunny', 'Cloudy', 'Rainy']\n",
    "\n",
    "# Simulate and print the 7-day forecast\n",
    "print(\"7-Day Weather Forecast:\")\n",
    "for day in range(1, 8):\n",
    "    weather = random.choice(weather_types)\n",
    "    print(f\"Day {day}: {weather}\")"
   ]
  },
  {
   "cell_type": "markdown",
   "metadata": {},
   "source": [
    "## Homework Hack #3"
   ]
  },
  {
   "cell_type": "code",
   "execution_count": 18,
   "metadata": {},
   "outputs": [
    {
     "name": "stdout",
     "output_type": "stream",
     "text": [
      "Coffee Shop Queue:\n",
      "\n",
      "Customer 1 - Service Time: 3 minutes\n",
      "Customer 2 - Service Time: 2 minutes\n",
      "Customer 3 - Service Time: 5 minutes\n",
      "Customer 4 - Service Time: 1 minutes\n",
      "Customer 5 - Service Time: 5 minutes\n",
      "\n",
      "Total time to serve all customers: 16 minutes\n"
     ]
    }
   ],
   "source": [
    "import random\n",
    "\n",
    "num_customers = 5\n",
    "service_times = [random.randint(1, 5) for _ in range(num_customers)]\n",
    "print(\"Coffee Shop Queue:\\n\")\n",
    "total_time = 0\n",
    "for i, time in enumerate(service_times, start=1):\n",
    "    total_time += time\n",
    "    print(f\"Customer {i} - Service Time: {time} minutes\")\n",
    "print(f\"\\nTotal time to serve all customers: {total_time} minutes\")"
   ]
  }
 ],
 "metadata": {
  "kernelspec": {
   "display_name": ".venv",
   "language": "python",
   "name": "python3"
  },
  "language_info": {
   "codemirror_mode": {
    "name": "ipython",
    "version": 3
   },
   "file_extension": ".py",
   "mimetype": "text/x-python",
   "name": "python",
   "nbconvert_exporter": "python",
   "pygments_lexer": "ipython3",
   "version": "3.10.12"
  }
 },
 "nbformat": 4,
 "nbformat_minor": 2
}
