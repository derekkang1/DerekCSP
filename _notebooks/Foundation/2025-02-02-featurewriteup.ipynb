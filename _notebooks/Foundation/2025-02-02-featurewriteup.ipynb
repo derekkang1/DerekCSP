{
 "cells": [
  {
   "cell_type": "raw",
   "metadata": {
    "vscode": {
     "languageId": "raw"
    }
   },
   "source": [
    "---\n",
    "layout: post\n",
    "title: Feature Write Up with CPT (Budget Brilliance)\n",
    "---"
   ]
  },
  {
   "cell_type": "markdown",
   "metadata": {},
   "source": [
    "## Input "
   ]
  },
  {
   "cell_type": "code",
   "execution_count": null,
   "metadata": {
    "vscode": {
     "languageId": "javascript"
    }
   },
   "outputs": [],
   "source": [
    "const expense = document.getElementById('expense').value;\n",
    "const cost = parseFloat(document.getElementById('entryAmount').value);\n",
    "const category = document.getElementById('category').value;"
   ]
  },
  {
   "cell_type": "markdown",
   "metadata": {},
   "source": [
    "The post feature takes 3 inputs from the budget form, expense, cost, and category, which is run through a submit function when the user presses submit new entry."
   ]
  },
  {
   "cell_type": "markdown",
   "metadata": {},
   "source": [
    "## Use of a List"
   ]
  },
  {
   "cell_type": "code",
   "execution_count": null,
   "metadata": {},
   "outputs": [],
   "source": [
    "data = request.get_json()"
   ]
  },
  {
   "cell_type": "code",
   "execution_count": null,
   "metadata": {
    "vscode": {
     "languageId": "javascript"
    }
   },
   "outputs": [],
   "source": [
    "body: JSON.stringify({ id, expense, cost, category, user_id: USER_ID })"
   ]
  },
  {
   "cell_type": "markdown",
   "metadata": {},
   "source": [
    "The PUT request on the frontend, in the body, passes a javascript object(list-type data) with an id, expense, cost, category, and user_id to the backend, which is accessed through the data variable in the backend to store information regarding budget entires."
   ]
  },
  {
   "cell_type": "markdown",
   "metadata": {},
   "source": [
    "## Procedure/Algorithm"
   ]
  },
  {
   "cell_type": "code",
   "execution_count": null,
   "metadata": {},
   "outputs": [],
   "source": [
    "@token_required()\n",
    "def put(self):\n",
    "    current_user = g.current_user\n",
    "    data = request.get_json()\n",
    "    budgeting_id = data.get('id')\n",
    "    \n",
    "    if not budgeting_id:\n",
    "        return jsonify({\"message\": \"ID is required for updating a budgeting entry\"}), 400\n",
    "    \n",
    "    budgeting = Budgeting.query.filter_by(id=budgeting_id, user_id=current_user.id).first()\n",
    "    if not budgeting:\n",
    "        return jsonify({\"message\": \"Budgeting entry not found\"}), 404\n",
    "    \n",
    "    budgeting.expense = data.get('expense', budgeting.expense)\n",
    "    budgeting.cost = data.get('cost', budgeting.cost)\n",
    "    budgeting.category = data.get('category', budgeting.category)\n",
    "    \n",
    "    db.session.commit()\n",
    "    return jsonify({\"message\": \"Budgeting entry updated successfully\"})"
   ]
  },
  {
   "cell_type": "markdown",
   "metadata": {},
   "source": [
    "This is a procedure called PUT in the backend apart of the budget API, which updates the budget entry values for a given/existing entry."
   ]
  },
  {
   "cell_type": "markdown",
   "metadata": {},
   "source": [
    "### Sequencing\n",
    "\n",
    " - Overall shows sequencing by first defining the vairables, then Extracting Data from Request, Retrieving the Budgeting Entry and then Updating Fields Sequentially, showing an algorithm with a particular sequence allowing it to function properly. If the procedure were to be executed in another order, and the variables were defined later, there would be no data to add to the table, therefore this procedure/algorithm shows a strong sense of sequencing and order.\n",
    "\n",
    "### Selection"
   ]
  },
  {
   "cell_type": "code",
   "execution_count": null,
   "metadata": {},
   "outputs": [],
   "source": [
    "if not data or 'expense' not in data or 'cost' not in data or 'category' not in data:\n",
    "    return jsonify({\"message\": \"Expense, cost, and category are required\"}), 400"
   ]
  },
  {
   "cell_type": "markdown",
   "metadata": {},
   "source": [
    "This shows selection because the if statement is a conditional which goes through selection and error handles in order to validate if the data is suitable to add to the database table."
   ]
  },
  {
   "cell_type": "markdown",
   "metadata": {},
   "source": [
    "### Iteration"
   ]
  },
  {
   "cell_type": "code",
   "execution_count": null,
   "metadata": {},
   "outputs": [],
   "source": [
    "budgeting = Budgeting.query.filter_by(id=budgeting_id, user_id=current_user.id).first()"
   ]
  },
  {
   "cell_type": "markdown",
   "metadata": {},
   "source": [
    "This code snippet within the algorithm shows iteration, because the code iterates through all of the rows of the rate table systematically and searches for entries with user_ids and budget-ids which match with that of the current user."
   ]
  },
  {
   "cell_type": "markdown",
   "metadata": {},
   "source": [
    "## Call to Algorithm"
   ]
  },
  {
   "cell_type": "code",
   "execution_count": null,
   "metadata": {
    "vscode": {
     "languageId": "javascript"
    }
   },
   "outputs": [],
   "source": [
    "const response = await fetch(`${pythonURI}/api/budgeting`, {\n",
    "    method: 'PUT',\n",
    "    headers: { 'Content-Type': 'application/json' },\n",
    "    body: JSON.stringify({ id, expense, cost, category, user_id: USER_ID }),\n",
    "    credentials: 'include',\n",
    "});  // This ensures that cookies and session info are included"
   ]
  },
  {
   "cell_type": "markdown",
   "metadata": {},
   "source": [
    "In the frontend I am sending a request to the backend API using the PUT method, and this passed data to the put/update procedure/algorithm in the backend in order to update a current entry with a new entry in the database."
   ]
  },
  {
   "cell_type": "markdown",
   "metadata": {},
   "source": [
    "## Output / Display"
   ]
  },
  {
   "cell_type": "code",
   "execution_count": null,
   "metadata": {
    "vscode": {
     "languageId": "javascript"
    }
   },
   "outputs": [],
   "source": [
    "data.forEach((entry, index) => {\n",
    "    const row = document.createElement(\"tr\");\n",
    "\n",
    "    row.innerHTML = `\n",
    "        <td>${entry.expense}</td>\n",
    "        <td>${entry.cost}</td>\n",
    "        <td>${entry.category}</td>\n",
    "        <td>\n",
    "            <button class=\"action-btn\" id=\"update-btn-${index}\">Update</button>\n",
    "            <button class=\"action-btn\" id=\"delete-btn-${index}\">Delete</button>\n",
    "        </td>\n",
    "    `;\n",
    "\n",
    "    body.appendChild(row);\n",
    "});\n",
    "table.appendChild(body);"
   ]
  },
  {
   "cell_type": "markdown",
   "metadata": {},
   "source": [
    "## Commenting and Acknowledgement\n",
    "I have comments throughout my code that explains what each function and part does."
   ]
  }
 ],
 "metadata": {
  "language_info": {
   "name": "python"
  }
 },
 "nbformat": 4,
 "nbformat_minor": 2
}
