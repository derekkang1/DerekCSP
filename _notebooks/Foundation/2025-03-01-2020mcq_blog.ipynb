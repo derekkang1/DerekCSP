{
 "cells": [
  {
   "cell_type": "raw",
   "metadata": {
    "vscode": {
     "languageId": "raw"
    }
   },
   "source": [
    "---\n",
    "layout: post\n",
    "title: Collegeboard 2020 MC Reflection\n",
    "description: This is a blog for Collegeboard 2020 MC \n",
    "type: issues \n",
    "comments: true\n",
    "---"
   ]
  },
  {
   "cell_type": "markdown",
   "metadata": {},
   "source": [
    "# What I learned:\n",
    "I took the Collegeboard 2020 MC Reflection and got 61/67.\n",
    "\n",
    "<img src=\"{{site.baseurl}}/images/2020cb_mcq/mcq1.png\"/>\n",
    "\n",
    "## Here's what I missed:"
   ]
  },
  {
   "cell_type": "markdown",
   "metadata": {},
   "source": [
    "### Q29\n",
    "<img src=\"{{site.baseurl}}/images/2020cb_mcq/mcq2.png\"/>\n",
    "- **Skill 1.D**\n",
    "- I picked option D because I misinterpreted the meaning of lossless compression. The correct answer was A, which describes lossless compression accurately allows the original data to be perfectly reconstructed after decompression, which is why the file is restored to its original version before being played. My mistake was choosing an answer that involved no compression at all since I didn't understnad the meaning."
   ]
  },
  {
   "cell_type": "markdown",
   "metadata": {},
   "source": [
    "### Q38\n",
    "<img src=\"{{site.baseurl}}/images/2020cb_mcq/mcq3.png\"/>\n",
    "- **Skill 5.A**\n",
    "- I selected option C, which was incorrect. The correct answer was B, which states that IPv6 allows for a greater number of addresses than IPv4, enabling more devices to connect to the Internet. THis was because I was unfamiliar with IP versions and interative imrpovements but I now know IPv6 does not eliminate hierarchy in addressing—it still follows a structured format, including network prefixes."
   ]
  },
  {
   "cell_type": "markdown",
   "metadata": {},
   "source": [
    "### Q47\n",
    "<img src=\"{{site.baseurl}}/images/2020cb_mcq/mcq4.png\"/>\n",
    "- **Skill 1.A**\n",
    "- I selected option D, which was incorrect. The correct answer was C, stating that the values in the list must be in sorted order. I misinterpreted the  requirement of binary search which is it only works on a sorted list. The algorithm repeatedly divides the list in half, which is only effective when the elements are ordered. The value of the target being -1 has no impact on the search process, as it simply checks for existence."
   ]
  },
  {
   "cell_type": "markdown",
   "metadata": {},
   "source": [
    "### Q50\n",
    "<img src=\"{{site.baseurl}}/images/2020cb_mcq/mcq5.png\"/>\n",
    "- **Skill 1.D**\n",
    "- I chose option B (III only), which was incorrect. The correct answer was D (I, II, and III). My mistake was misunderstanding the efficiency of algorithms I and II. Algorithm I runs in O(n) time and Algorithm II results in O(n²) time, which are both considered reasonable for large input sizes. Algorithm III, which only accesses the first 10 elements regardless of list size, runs in constant time O(1), making it highly efficient."
   ]
  },
  {
   "cell_type": "markdown",
   "metadata": {},
   "source": [
    "### Q57\n",
    "<img src=\"{{site.baseurl}}/images/2020cb_mcq/mcq6.png\"/>\n",
    "- **Skill 5.A**\n",
    "- I selected option B, which was incorrect. The correct answer was C (To establish a common standard for sending messages between devices on the Internet). My mistake was misunderstanding the primary role of TCP/IP. These protocols are designed to facilitate communication between devices by defining how data should be transmitted and received over networks. They do not inherently provide security or encryption to protect private data from unauthorized access. "
   ]
  },
  {
   "cell_type": "markdown",
   "metadata": {},
   "source": [
    "### Q60\n",
    "<img src=\"{{site.baseurl}}/images/2020cb_mcq/mcq7.png\"/>\n",
    "- **Skill 3.B**\n",
    "- I initially selected option A, but the correct answer was C. My mistake was not properly accounting for the removal of duplicates before computing the count of unique values in either list, which is nessecary to ensure the algorithim is properly couting all of the duplicate values. This question helped me understand the importance of ensuring uniqueness before performing set operations in list comparisons."
   ]
  },
  {
   "cell_type": "markdown",
   "metadata": {},
   "source": [
    "## Overall Takeaways\n",
    "<img src=\"{{site.baseurl}}/images/2020cb_mcq/mcq8.png\"/>\n",
    "<img src=\"{{site.baseurl}}/images/2020cb_mcq/mcq9.png\"/>\n",
    "- I got a higer score than last MC, and got most of the topics that I was missing last MC right, which were citizen science and crytopography, showing improvement. There are sitll some topics that I need to study or review, particularly from Big Idea 5 and reviewing some from Big Idea 6. Most of my mistakes came from me not fullying understanding the termnology that was being used, such as with the binary search algorithms, data compression, and internel protocall.I will make sure ot study up on these missed topics by taking more practice exams and also looking at the CB provided help for the particular skills that corresponded with each question on this exam. I will also be sure to make sure to read the prompt or question fully before answering to ensure I odn't make silly mistakes."
   ]
  }
 ],
 "metadata": {
  "language_info": {
   "name": "python"
  }
 },
 "nbformat": 4,
 "nbformat_minor": 2
}
