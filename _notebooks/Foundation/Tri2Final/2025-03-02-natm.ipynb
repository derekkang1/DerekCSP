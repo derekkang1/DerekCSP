{
 "cells": [
  {
   "cell_type": "raw",
   "metadata": {
    "vscode": {
     "languageId": "raw"
    }
   },
   "source": [
    "---\n",
    "layout: post\n",
    "title: N@TM @ DECA\n",
    "---"
   ]
  },
  {
   "cell_type": "markdown",
   "metadata": {},
   "source": [
    "# Experience/Reflection\n",
    "\n",
    "I wasn't able to make N@TM at school, but thanks to Mr. Buxton, we wer able to redo it at the DECA State Conference, where I was able to share our project with other student all across California, not just from our school. Many of the students from other schools were also taking CSP or CSA, and it was cool to share my experiences with COmpSci with thema nd learn about they they were different and similar to the otehr school's comp sci programs.\n",
    "\n",
    "Night at the Museum was a great oppurtunity for us because we were able to get feedback from other parents and students, simulating real user feedback. They gave us feedback and tips to improve both our presentation skills, our features, and also asked us some insightful questions.\n",
    "\n",
    "# My Presentation\n",
    "<img src=\"{{site.baseurl}}/images/tri2final/natm1.png\" alt=\"picture\" height=\"525px\">\n",
    "<img src=\"{{site.baseurl}}/images/tri2final/natm2.png\" alt=\"picture\" height=\"525px\">\n",
    "\n",
    "I presented our project and features to several people and highlighted our main goal and features with a live demo. In addition I offered my computer where they could interact with and try out the features for themselves and the google form our group used to leave comments and give us feedback.\n",
    "\n",
    "I gave feedback and listened to the presentation of others at Night at the Museum, Saatvic (CSA), and two more CSP projects from those who were there at the DECA N@TM, Neptune (yash and akshaj), resturaunt(Zoe). \n",
    "\n",
    "# Feedback\n",
    "\n",
    "### Average Ratings (12 Reviews, 3 from DECA)\n",
    "<img src=\"{{site.baseurl}}/images/tri2final/natmform1.png\" alt=\"picture\" height=\"525px\">\n",
    "\n",
    "<br>\n",
    "\n",
    "<img src=\"{{site.baseurl}}/images/tri2final/natmform2.png\" alt=\"picture\" height=\"525px\">\n",
    "\n",
    "<br>\n",
    "\n",
    "<img src=\"{{site.baseurl}}/images/tri2final/natmform3.png\" alt=\"picture\" height=\"525px\">\n",
    "\n",
    "<br>\n",
    "\n",
    "<img src=\"{{site.baseurl}}/images/tri2final/natmform4.png\" alt=\"picture\" height=\"525px\">\n",
    "\n",
    "From this feedback, we found out that our forntend styling and format was not the best, so we changed our styling to better interest the users, which was ocmpelted by our frontend engineers, and we all had a say in that.\n",
    "\n",
    "I also recived some feedback for my individual feature from a fellow DECA student form another school, which was it would be ncie to add total budget feature that would allow users to see how much of their total budget they have spent after they enter all of their entries. \n",
    "\n",
    "I implemented this by adding a total budget input form, and a remaining budget calculation below the entries table.\n",
    "\n",
    "```js\n",
    "async function updateRemainingBudget() {\n",
    "    try {\n",
    "        const response = await fetch(`${pythonURI}/api/budgeting?user_id=${USER_ID}`, fetchOptions);\n",
    "        const data = await response.json();\n",
    "        const totalCost = data.reduce((sum, entry) => sum + parseFloat(entry.cost), 0);\n",
    "        const remainingBudget = totalBudget - totalCost;\n",
    "\n",
    "        document.getElementById(\"remaining-budget\").textContent = `$${remainingBudget.toFixed(2)}`;\n",
    "    } catch (error) {\n",
    "        console.error(\"Error calculating remaining budget:\", error);\n",
    "    }\n",
    "}\n",
    "```\n",
    "<img src=\"{{site.baseurl}}/images/tri2final/totalbudget.png\"/>\n",
    "<img src=\"{{site.baseurl}}/images/tri2final/remainingbudget.png\"/>\n"
   ]
  }
 ],
 "metadata": {
  "language_info": {
   "name": "python"
  }
 },
 "nbformat": 4,
 "nbformat_minor": 2
}
