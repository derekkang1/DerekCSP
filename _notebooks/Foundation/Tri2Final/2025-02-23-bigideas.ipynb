{
 "cells": [
  {
   "cell_type": "raw",
   "metadata": {
    "vscode": {
     "languageId": "raw"
    }
   },
   "source": [
    "---\n",
    "layout: post\n",
    "title: Big Ideas\n",
    "---"
   ]
  },
  {
   "cell_type": "markdown",
   "metadata": {},
   "source": [
    "# BIG IDEA 1: CREATIVE DEVELOPMENT (CRD)\n",
    "When developing computing innovations, developers can use a formal, iterative design process or a less rigid process of experimentation. While using either approach, developers will encounter phases of investigating and reflecting, designing, prototyping, and testing. Additionally, collaboration is an important tool at any phase of development, because considering multiple perspectives allows for improvement of innovations."
   ]
  },
  {
   "cell_type": "markdown",
   "metadata": {},
   "source": [
    "# 1. Backend Debugging (Postman)"
   ]
  },
  {
   "cell_type": "markdown",
   "metadata": {},
   "source": [
    "<img src=\"{{site.baseurl}}/images/tri2final/postman1.png\" height=\"400px\"/>"
   ]
  },
  {
   "cell_type": "markdown",
   "metadata": {
    "vscode": {
     "languageId": "raw"
    }
   },
   "source": [
    "\n",
    " - I used postman in order to send get, post, put, and delete requests to the backend and by passing certain bodies to check whether the API was working properly or not."
   ]
  },
  {
   "cell_type": "markdown",
   "metadata": {},
   "source": [
    "# 2. Frontend Debugging (Console)"
   ]
  },
  {
   "cell_type": "markdown",
   "metadata": {},
   "source": [
    "<img src=\"{{site.baseurl}}/images/tri2final/console.png\"/>"
   ]
  },
  {
   "cell_type": "markdown",
   "metadata": {},
   "source": [
    "\n",
    " - I used the console on the frontend in order to use the Frontend features like the update rates and see whether the request to the backend in order to execute the request to the API was working properly or not.\n",
    " - In this example, the user is not logged in, so they can't view thier personal entries"
   ]
  },
  {
   "cell_type": "markdown",
   "metadata": {},
   "source": [
    "# 3. Testing(Proper Data)"
   ]
  },
  {
   "cell_type": "markdown",
   "metadata": {},
   "source": [
    "<img src=\"{{site.baseurl}}/images/tri2final/initdata.png\"/>\n",
    "```\n",
    "def initBudgeting():\n",
    "    with app.app_context():\n",
    "        db.create_all()\n",
    "\n",
    "        test_data = [\n",
    "            Budgeting(expense=\"Hilton Paris Opera\", cost=1000, category=\"Hotels\", user_id=1),\n",
    "            Budgeting(expense=\"Groceries\", cost=50, category=\"Food\", user_id=2),\n",
    "            Budgeting(expense=\"Paris Metro Pass\", cost=80, category=\"Transport\", user_id=1),\n",
    "        ]\n",
    "        \n",
    "        for entry in test_data:\n",
    "            try:\n",
    "                entry.create()\n",
    "                print(f\"Record created: {repr(entry)}\")\n",
    "            except IntegrityError:\n",
    "                db.session.remove()\n",
    "                print(f\"Record exists or error: {entry.expense}, {entry.cost}, {entry.category}, {entry.user_id}\")\n",
    "```"
   ]
  },
  {
   "cell_type": "markdown",
   "metadata": {},
   "source": [
    "\n",
    " - I created authentic and real-looking users and ratings to supplement m feature with actual test data, and not just \"hello\" or \"123\""
   ]
  },
  {
   "cell_type": "markdown",
   "metadata": {},
   "source": [
    "# 4. All Postman Requests"
   ]
  },
  {
   "cell_type": "markdown",
   "metadata": {},
   "source": [
    "### Get\n",
    "<img src=\"{{site.baseurl}}/images/tri2final/postman1.png\" height=\"450px\"/>\n",
    "\n",
    "### Post\n",
    "<img src=\"{{site.baseurl}}/images/tri2final/postman2.png\" height=\"450px\"/>\n",
    "\n",
    "### Put/Update\n",
    "<img src=\"{{site.baseurl}}/images/tri2final/postman3.png\" height=\"450px\"/>\n",
    "\n",
    "### Delete\n",
    "<img src=\"{{site.baseurl}}/images/tri2final/postman4.png\" height=\"450px\"/>"
   ]
  },
  {
   "cell_type": "markdown",
   "metadata": {},
   "source": [
    "Using Postman to send requests to the backend allowed me to test the API endpoint and make sure they were functioning properly, and helping me find any issues early on. By checking the frontend console, I was also able to track errors, log the errors and other outputs, and monitor the responses in real-time, making debugging much easier. Together, these tools helped streamline the development process by providing the outputs and show me what is going on in both the backend and frontend."
   ]
  },
  {
   "cell_type": "markdown",
   "metadata": {},
   "source": [
    "# BIG IDEA 2: DATA (DAT)\n",
    "Data are central to computing innovations because they communicate initial conditions to programs and represent new knowledge. Computers consume data, transform data, and produce new data, allowing users to create new information or knowledge to solve problems through the interpretation of those data. Computers store data digitally, which means that the data must be manipulated in order to be presented in a useful way to the user."
   ]
  },
  {
   "cell_type": "markdown",
   "metadata": {},
   "source": [
    "# 1. Database Management with SQLite:"
   ]
  },
  {
   "cell_type": "markdown",
   "metadata": {},
   "source": [
    "<img src=\"{{site.baseurl}}/images/tri2final/budgettable.png\" height=\"525px\">"
   ]
  },
  {
   "cell_type": "markdown",
   "metadata": {},
   "source": [
    "### \"budget_data\" Table Columns, and data management/organization\n",
    " - This is my Budgeting Data table in the database, which stores a unique id for each entry in the first column. \n",
    "\n",
    " - It stores the actual data values, whcih are expense, cost, and category in 3 seperate columns\n",
    "\n",
    " - \n",
    "\n",
    " - It stores the user_id associated with the user that created that rating, and when joined with the user.py api which is associated with each rating. \n",
    "\n"
   ]
  },
  {
   "cell_type": "code",
   "execution_count": null,
   "metadata": {},
   "outputs": [],
   "source": [
    "__tablename__ = 'budgeting_data'\n",
    "\n",
    "id = db.Column(db.Integer, primary_key=True)\n",
    "expense = db.Column(db.String, nullable=False)  # Name of the expense (e.g., \"Rent\", \"Groceries\")\n",
    "cost = db.Column(db.Float, nullable=False)  # The cost for the expense\n",
    "category = db.Column(db.String, nullable=False)  # Expense category (e.g., \"Housing\", \"Food\")\n",
    "user_id = db.Column(db.Integer, db.ForeignKey('users.id'), nullable=False)  # Linked to the user who created the budgeting data\n",
    "\n",
    "def __init__(self, expense, cost, category, user_id):\n",
    "    self.expense = expense\n",
    "    self.cost = cost\n",
    "    self.category = category\n",
    "    self.user_id = user_id"
   ]
  },
  {
   "cell_type": "markdown",
   "metadata": {},
   "source": [
    "### The Code\n",
    "In my budgeting api's model file I have defined the different columns, and where each value that is entered should go on the table, as well as what type of data should be in each.\n",
    " - For instance, aexpense is stored as a string and cost is an integer\n",
    " - primary_key=True insures the id of each entry is unique"
   ]
  },
  {
   "cell_type": "markdown",
   "metadata": {},
   "source": [
    "# 2. Data Upload and Storage"
   ]
  },
  {
   "cell_type": "markdown",
   "metadata": {},
   "source": [
    "#### Retrieving Data from the Request"
   ]
  },
  {
   "cell_type": "code",
   "execution_count": null,
   "metadata": {},
   "outputs": [],
   "source": [
    "@token_required()\n",
    "def post(self):\n",
    "    current_user = g.current_user\n",
    "    data = request.get_json()\n",
    "\n",
    "    budgeting = Budgeting(\n",
    "        expense=data.get('expense'),\n",
    "        cost=data.get('cost'),\n",
    "        category=data.get('category'),\n",
    "        user_id=current_user.id\n",
    "    )\n",
    "    "
   ]
  },
  {
   "cell_type": "markdown",
   "metadata": {},
   "source": [
    "#### Data(Rating) Validation"
   ]
  },
  {
   "cell_type": "code",
   "execution_count": null,
   "metadata": {},
   "outputs": [],
   "source": [
    "if not data or 'expense' not in data or 'cost' not in data or 'category' not in data:\n",
    "    return jsonify({\"message\": \"Expense, cost, and category are required\"}), 400\n",
    "try:\n",
    "    cost = int(cost)\n",
    "except ValueError:\n",
    "    return jsonify({\"message\": \"Cost must be an integer\"}), 400"
   ]
  },
  {
   "cell_type": "markdown",
   "metadata": {},
   "source": [
    "#### Adding the data to the table"
   ]
  },
  {
   "cell_type": "code",
   "execution_count": null,
   "metadata": {},
   "outputs": [],
   "source": [
    "# Create a new budget entry\n",
    "budgeting = Budgeting(\n",
    "    expense=data.get('expense'),\n",
    "    cost=data.get('cost'),\n",
    "    category=data.get('category'),\n",
    "    user_id=current_user.id\n",
    ")\n",
    "\n",
    "db.session.add(budgeting)\n",
    "db.session.commit()\n",
    "\n",
    "return jsonify({\"message\": \"Budgeting entry created successfully\"})"
   ]
  },
  {
   "cell_type": "markdown",
   "metadata": {},
   "source": [
    "- Takes in data from the request\n",
    "\n",
    "- Then, validates whether the rating and other data is valid, and ready to add to the table\n",
    "\n",
    "- Adds the data to the table, formatting it into columns with\n",
    "    - expense\n",
    "    - pcost\n",
    "    - category\n",
    "    - user_id\n",
    "\n",
    "\n",
    "Thus, the entry is successfully added to the table, and linked with the user_id that created it."
   ]
  },
  {
   "cell_type": "markdown",
   "metadata": {},
   "source": [
    "# 3. Data Security"
   ]
  },
  {
   "cell_type": "code",
   "execution_count": null,
   "metadata": {
    "vscode": {
     "languageId": "javascript"
    }
   },
   "outputs": [],
   "source": [
    "async function getCurrentUserId() {\n",
    "        try {\n",
    "            const response = await fetch(`${pythonURI}/api/id`, fetchOptions);\n",
    "            if (!response.ok) throw new Error(\"Failed to fetch user ID\");\n",
    "\n",
    "            const userData = await response.json();\n",
    "            USER_ID = userData.id; \n",
    "            createBudgetingTable(); // Fetch entries after getting user ID\n",
    "        } catch (error) {\n",
    "            console.error(\"Error fetching user ID:\", error);\n",
    "        }\n",
    "    }"
   ]
  },
  {
   "cell_type": "code",
   "execution_count": null,
   "metadata": {
    "vscode": {
     "languageId": "javascript"
    }
   },
   "outputs": [],
   "source": [
    "async function fetchAndDisplayBudgeting() {\n",
    "    try {\n",
    "        const response = await fetch(`${pythonURI}/api/budgeting?user_id=${USER_ID}`, fetchOptions);\n",
    "        const data = await response.json();\n",
    "        const displayElement = document.getElementById('budgeting-display');"
   ]
  },
  {
   "cell_type": "markdown",
   "metadata": {},
   "source": [
    "#### Users specific Entry Table"
   ]
  },
  {
   "cell_type": "markdown",
   "metadata": {},
   "source": [
    "This is a code segment from the the function that displays the budgeting entries table on the frontend, and it helps create security for the data on the website.\n",
    "\n",
    " - Only the entries associated with the current logged in user is displayed on the table, so users cannot edit or see other user's entries.\n",
    "\n",
    "1. Function to get current user_id using existing /id endpoint in user API, saves as a variable\n",
    "2. fetchAndDisplayBudgeting() will call the endpoint ```budgeting?user_id=${USER_ID}```, which queries and filters the database based on the user_id, only giving back the budgeting entries for the said user, which is displayed in the table."
   ]
  },
  {
   "cell_type": "code",
   "execution_count": null,
   "metadata": {},
   "outputs": [],
   "source": [
    "@token_required()"
   ]
  },
  {
   "cell_type": "markdown",
   "metadata": {},
   "source": [
    "#### Token Required\n",
    "\n",
    "All users who are trying to access their budgeting entry data must be logged in, and the token required feature allows for that, and prevents users not logged in from accessing the data."
   ]
  },
  {
   "cell_type": "markdown",
   "metadata": {},
   "source": [
    "# 4. Data Retrieval and Display"
   ]
  },
  {
   "cell_type": "markdown",
   "metadata": {},
   "source": [
    "### Get Request"
   ]
  },
  {
   "cell_type": "markdown",
   "metadata": {},
   "source": [
    "#### Retrieve data from the frontend"
   ]
  },
  {
   "cell_type": "code",
   "execution_count": null,
   "metadata": {},
   "outputs": [],
   "source": [
    "data = request.get_json()"
   ]
  },
  {
   "cell_type": "markdown",
   "metadata": {},
   "source": [
    "#### Validate the data"
   ]
  },
  {
   "cell_type": "code",
   "execution_count": null,
   "metadata": {},
   "outputs": [],
   "source": [
    "if not data or 'expense' not in data or 'cost' not in data or 'category' not in data:\n",
    "    return jsonify({\"message\": \"Expense, cost, and category are required\"}), 400"
   ]
  },
  {
   "cell_type": "markdown",
   "metadata": {},
   "source": [
    "#### Queries"
   ]
  },
  {
   "cell_type": "code",
   "execution_count": null,
   "metadata": {},
   "outputs": [],
   "source": [
    "def get(self):\n",
    "    current_user = g.current_user\n",
    "    budgeting_entries = Budgeting.query.filter_by(user_id=current_user.id).all()\n",
    "    return jsonify([entry.read() for entry in budgeting_entries])"
   ]
  },
  {
   "cell_type": "markdown",
   "metadata": {},
   "source": [
    "\n",
    "The code queries through the \"budgeting_data\" table, filtering by the current user id, and returns all of the data associated with all of the entries found with that user id."
   ]
  },
  {
   "cell_type": "markdown",
   "metadata": {},
   "source": [
    "#### Frontend Code"
   ]
  },
  {
   "cell_type": "code",
   "execution_count": null,
   "metadata": {
    "vscode": {
     "languageId": "javascript"
    }
   },
   "outputs": [],
   "source": [
    "const response = await fetch(`${pythonURI}/api/budgeting?user_id=${USER_ID}`, fetchOptions);\n",
    "const data = await response.json();"
   ]
  },
  {
   "cell_type": "markdown",
   "metadata": {},
   "source": [
    "The code recieves the data associated with a particular user_id in the backend in the form of a json, which it can then use to display on the frontend.\n",
    "\n"
   ]
  },
  {
   "cell_type": "markdown",
   "metadata": {},
   "source": [
    "### Displays on Frontend"
   ]
  },
  {
   "cell_type": "markdown",
   "metadata": {},
   "source": [
    "<img src=\"{{site.baseurl}}/images/tri2final/budgettable.png\" height=\"525px\">\n",
    "<img src=\"{{site.baseurl}}/images/tri2final/initdata.png\"/>"
   ]
  },
  {
   "cell_type": "markdown",
   "metadata": {},
   "source": [
    "# Big idea 4"
   ]
  },
  {
   "cell_type": "markdown",
   "metadata": {},
   "source": [
    "The main focus of big idea 4 is toward the internet, ip addresses, protocols, and for us, deployment"
   ]
  },
  {
   "cell_type": "markdown",
   "metadata": {},
   "source": [
    "## AWS\n",
    "\n",
    "AWS is Amazon Web Services, and all of the groups in our class use the same AWS server to deploy our projects onto. intertravel.stu.nighthawkcodingsociety.com to deploy the Flask backend. We also added the repository to COckpit to update it anytime in a class shared repository.\n",
    "\n",
    "<img src=\"{{site.baseurl}}/images/tri2final/aws-record.png\" height=\"525px\">"
   ]
  },
  {
   "cell_type": "markdown",
   "metadata": {},
   "source": [
    "## DNS"
   ]
  },
  {
   "cell_type": "markdown",
   "metadata": {},
   "source": [
    "DNS stands for domain name service and what it does for us is that it maps a certain domain name to an IP address so the domain that we are using for the deployed project is intertravel.stu.nighthawkcodingsociety.com, and it maps this to the ip address of 3.129.109.200."
   ]
  },
  {
   "cell_type": "markdown",
   "metadata": {},
   "source": [
    "## HTTP"
   ]
  },
  {
   "cell_type": "markdown",
   "metadata": {},
   "source": [
    "We use HTTP method in order to send requests to API endpoints to take advantage of our background through POST, GET, PUT, and DELETE requests allowing the user to create ratings on my website and interact using these other features."
   ]
  },
  {
   "cell_type": "markdown",
   "metadata": {},
   "source": [
    "## Security\n",
    "\n",
    " In the nginx file, we set it so the only domain that can send API requests to the backend is https://kiruthic-selvakumar.github.io. We also used Certbot to enforce HTTPS and encrypt the website to ensure that it is fully secure.\n",
    " nginx file:\n",
    "\n",
    " ```js\n",
    " server {\n",
    "    server_name intertravel.stu.nighthawkcodingsociety.com;\n",
    "    location / { \n",
    "        proxy_pass http://localhost:8101;\n",
    "\n",
    "        # Preflighted requests \n",
    "        if ($request_method = OPTIONS ) {\n",
    "                add_header \"Access-Control-Allow-Credentials\" \"true\" always;\n",
    "                add_header \"Access-Control-Allow-Origin\" \"https://kiruthic-selvakumar.github.io\" always;\n",
    "                add_header \"Access-Control-Allow-Methods\" \"GET, POST, PUT, DELETE, OPTIONS, HEAD\" always; # Make sure the request methods above match here\n",
    "                add_header \"Access-Control-Allow-MaxAge\" 600 always;\n",
    "                add_header \"Access-Control-Allow-Headers\" \"Authorization, Origin, X-Requested-With, Content-Type, Accept\" always;\n",
    "                return 204;\n",
    "        }\n",
    "    }\n",
    "\n",
    "    listen [::]:443 ssl; # managed by Certbot\n",
    "    listen 443 ssl; # managed by Certbot\n",
    "    ssl_certificate /etc/letsencrypt/live/intertravel.stu.nighthawkcodingsociety.com/fullchain.pem; # managed by Certbot\n",
    "    ssl_certificate_key /etc/letsencrypt/live/intertravel.stu.nighthawkcodingsociety.com/privkey.pem; # managed by Certbot\n",
    "    include /etc/letsencrypt/options-ssl-nginx.conf; # managed by Certbot\n",
    "    ssl_dhparam /etc/letsencrypt/ssl-dhparams.pem; # managed by Certbot\n",
    "\n",
    "}\n",
    "server {\n",
    "    if ($host = intertravel.stu.nighthawkcodingsociety.com) {\n",
    "        return 301 https://$host$request_uri;\n",
    "    } # managed by Certbot\n",
    "\n",
    "\n",
    "    listen 80;\n",
    "    listen [::]:80;\n",
    "    server_name intertravel.stu.nighthawkcodingsociety.com;\n",
    "    return 404; # managed by Certbot\n",
    "}\n",
    "```"
   ]
  }
 ],
 "metadata": {
  "kernelspec": {
   "display_name": "venv",
   "language": "python",
   "name": "python3"
  },
  "language_info": {
   "codemirror_mode": {
    "name": "ipython",
    "version": 3
   },
   "file_extension": ".py",
   "mimetype": "text/x-python",
   "name": "python",
   "nbconvert_exporter": "python",
   "pygments_lexer": "ipython3",
   "version": "3.12.5"
  }
 },
 "nbformat": 4,
 "nbformat_minor": 2
}
